{
 "cells": [
  {
   "cell_type": "code",
   "execution_count": 1,
   "id": "716ec3cc",
   "metadata": {
    "ExecuteTime": {
     "end_time": "2021-11-29T16:34:29.623601Z",
     "start_time": "2021-11-29T16:34:29.601664Z"
    }
   },
   "outputs": [
    {
     "data": {
      "text/html": [
       "<div id=\"my_id_menu_nb\">run previous cell, wait for 2 seconds</div>\n",
       "<script>\n",
       "function repeat_indent_string(n){\n",
       "    var a = \"\" ;\n",
       "    for ( ; n > 0 ; --n)\n",
       "        a += \"    \";\n",
       "    return a;\n",
       "}\n",
       "// look up into all sections and builds an automated menu //\n",
       "var update_menu_string = function(begin, lfirst, llast, sformat, send, keep_item, begin_format, end_format) {\n",
       "    var anchors = document.getElementsByClassName(\"section\");\n",
       "    if (anchors.length == 0) {\n",
       "        anchors = document.getElementsByClassName(\"text_cell_render rendered_html\");\n",
       "    }\n",
       "    var i,t;\n",
       "    var text_menu = begin;\n",
       "    var text_memo = \"<pre>\\nlength:\" + anchors.length + \"\\n\";\n",
       "    var ind = \"\";\n",
       "    var memo_level = 1;\n",
       "    var href;\n",
       "    var tags = [];\n",
       "    var main_item = 0;\n",
       "    var format_open = 0;\n",
       "    for (i = 0; i <= llast; i++)\n",
       "        tags.push(\"h\" + i);\n",
       "\n",
       "    for (i = 0; i < anchors.length; i++) {\n",
       "        text_memo += \"**\" + anchors[i].id + \"--\\n\";\n",
       "\n",
       "        var child = null;\n",
       "        for(t = 0; t < tags.length; t++) {\n",
       "            var r = anchors[i].getElementsByTagName(tags[t]);\n",
       "            if (r.length > 0) {\n",
       "child = r[0];\n",
       "break;\n",
       "            }\n",
       "        }\n",
       "        if (child == null) {\n",
       "            text_memo += \"null\\n\";\n",
       "            continue;\n",
       "        }\n",
       "        if (anchors[i].hasAttribute(\"id\")) {\n",
       "            // when converted in RST\n",
       "            href = anchors[i].id;\n",
       "            text_memo += \"#1-\" + href;\n",
       "            // passer à child suivant (le chercher)\n",
       "        }\n",
       "        else if (child.hasAttribute(\"id\")) {\n",
       "            // in a notebook\n",
       "            href = child.id;\n",
       "            text_memo += \"#2-\" + href;\n",
       "        }\n",
       "        else {\n",
       "            text_memo += \"#3-\" + \"*\" + \"\\n\";\n",
       "            continue;\n",
       "        }\n",
       "        var title = child.textContent;\n",
       "        var level = parseInt(child.tagName.substring(1,2));\n",
       "\n",
       "        text_memo += \"--\" + level + \"?\" + lfirst + \"--\" + title + \"\\n\";\n",
       "\n",
       "        if ((level < lfirst) || (level > llast)) {\n",
       "            continue ;\n",
       "        }\n",
       "        if (title.endsWith('¶')) {\n",
       "            title = title.substring(0,title.length-1).replace(\"<\", \"&lt;\")\n",
       "         .replace(\">\", \"&gt;\").replace(\"&\", \"&amp;\");\n",
       "        }\n",
       "        if (title.length == 0) {\n",
       "            continue;\n",
       "        }\n",
       "\n",
       "        while (level < memo_level) {\n",
       "            text_menu += end_format + \"</ul>\\n\";\n",
       "            format_open -= 1;\n",
       "            memo_level -= 1;\n",
       "        }\n",
       "        if (level == lfirst) {\n",
       "            main_item += 1;\n",
       "        }\n",
       "        if (keep_item != -1 && main_item != keep_item + 1) {\n",
       "            // alert(main_item + \" - \" + level + \" - \" + keep_item);\n",
       "            continue;\n",
       "        }\n",
       "        while (level > memo_level) {\n",
       "            text_menu += \"<ul>\\n\";\n",
       "            memo_level += 1;\n",
       "        }\n",
       "        text_menu += repeat_indent_string(level-2);\n",
       "        text_menu += begin_format + sformat.replace(\"__HREF__\", href).replace(\"__TITLE__\", title);\n",
       "        format_open += 1;\n",
       "    }\n",
       "    while (1 < memo_level) {\n",
       "        text_menu += end_format + \"</ul>\\n\";\n",
       "        memo_level -= 1;\n",
       "        format_open -= 1;\n",
       "    }\n",
       "    text_menu += send;\n",
       "    //text_menu += \"\\n\" + text_memo;\n",
       "\n",
       "    while (format_open > 0) {\n",
       "        text_menu += end_format;\n",
       "        format_open -= 1;\n",
       "    }\n",
       "    return text_menu;\n",
       "};\n",
       "var update_menu = function() {\n",
       "    var sbegin = \"\";\n",
       "    var sformat = '<a href=\"#__HREF__\">__TITLE__</a>';\n",
       "    var send = \"\";\n",
       "    var begin_format = '<li>';\n",
       "    var end_format = '</li>';\n",
       "    var keep_item = -1;\n",
       "    var text_menu = update_menu_string(sbegin, 2, 4, sformat, send, keep_item,\n",
       "       begin_format, end_format);\n",
       "    var menu = document.getElementById(\"my_id_menu_nb\");\n",
       "    menu.innerHTML=text_menu;\n",
       "};\n",
       "window.setTimeout(update_menu,2000);\n",
       "            </script>"
      ],
      "text/plain": [
       "<IPython.core.display.HTML object>"
      ]
     },
     "execution_count": 1,
     "metadata": {},
     "output_type": "execute_result"
    }
   ],
   "source": [
    "from jyquickhelper import add_notebook_menu\n",
    "add_notebook_menu()"
   ]
  },
  {
   "cell_type": "code",
   "execution_count": 3,
   "id": "01875485",
   "metadata": {
    "ExecuteTime": {
     "end_time": "2021-11-29T16:34:29.639559Z",
     "start_time": "2021-11-29T16:34:29.626594Z"
    }
   },
   "outputs": [],
   "source": [
    "#! pip install jyquickhelper"
   ]
  },
  {
   "cell_type": "markdown",
   "id": "touched-feelings",
   "metadata": {},
   "source": [
    "# Imports<a class=\"anchor\" id=\"chapter10\"></a>"
   ]
  },
  {
   "cell_type": "markdown",
   "id": "tight-curve",
   "metadata": {},
   "source": [
    "## Imports principaux <a class=\"anchor\" id=\"chapter101\"></a>"
   ]
  },
  {
   "cell_type": "code",
   "execution_count": 213,
   "id": "spanish-beverage",
   "metadata": {
    "ExecuteTime": {
     "end_time": "2021-11-29T16:34:31.977711Z",
     "start_time": "2021-11-29T16:34:29.640556Z"
    }
   },
   "outputs": [],
   "source": [
    "import pandas as pd\n",
    "import matplotlib.pyplot as plt\n",
    "import plotly.express as px\n",
    "import numpy as np\n",
    "import pathlib\n",
    "import os\n",
    "import datetime as dt\n",
    "import plotly.express as px\n",
    "import plotly.graph_objects as go\n",
    "import warnings\n",
    "from plotly.subplots import make_subplots\n",
    "import json\n",
    "import geopandas as gpd\n",
    "from os.path import join\n",
    "\n",
    "from collections import Counter\n",
    "from tqdm import tqdm\n",
    "\n",
    "#prétraitement (normalisation)\n",
    "from sklearn import preprocessing\n",
    "\n",
    "#ACP\n",
    "from sklearn import decomposition\n",
    "from sklearn import preprocessing\n",
    "\n",
    "\n",
    "#Outils de distances pour calculer les inerties entre les Clusters\n",
    "from sklearn import metrics\n",
    "from scipy.spatial.distance import cdist\n",
    "from scipy.cluster.hierarchy import centroid\n",
    "\n",
    "#Kmeans\n",
    "from sklearn.cluster import KMeans\n",
    "\n",
    "time_now = dt.datetime.now().strftime(\"%d_%m_%Y\")"
   ]
  },
  {
   "cell_type": "markdown",
   "id": "personal-consultancy",
   "metadata": {},
   "source": [
    "## Imports bases de données et infos carto <a class=\"anchor\" id=\"chapter102\"></a>"
   ]
  },
  {
   "cell_type": "markdown",
   "id": "romance-desert",
   "metadata": {},
   "source": [
    "Dataset pour carto"
   ]
  },
  {
   "cell_type": "code",
   "execution_count": 214,
   "id": "bfb9ed89",
   "metadata": {
    "ExecuteTime": {
     "end_time": "2021-11-29T16:34:31.993589Z",
     "start_time": "2021-11-29T16:34:31.979658Z"
    }
   },
   "outputs": [],
   "source": [
    "path_main = 'C:\\\\Users\\\\DIAGNE\\\\Desktop\\\\ENSAE_3A\\\\EJE_POC_IE'"
   ]
  },
  {
   "cell_type": "code",
   "execution_count": 6,
   "id": "621558d3",
   "metadata": {
    "ExecuteTime": {
     "end_time": "2021-11-29T16:34:32.008552Z",
     "start_time": "2021-11-29T16:34:31.995581Z"
    }
   },
   "outputs": [],
   "source": [
    "#path_main = 'C:\\\\Users\\\\Elise\\\\Desktop\\\\2625\\\\211126_EJE_POC_IE'"
   ]
  },
  {
   "cell_type": "code",
   "execution_count": 215,
   "id": "dramatic-indian",
   "metadata": {
    "ExecuteTime": {
     "end_time": "2021-11-29T16:35:19.689397Z",
     "start_time": "2021-11-29T16:34:32.010543Z"
    }
   },
   "outputs": [
    {
     "name": "stdout",
     "output_type": "stream",
     "text": [
      "Base-hébergement-tourisme_CC_-2021_maj successfully loaded\n",
      "insee_rp_hist_1968.xlsx successfully loaded\n",
      "communes-20190101.json successfully loaded\n"
     ]
    }
   ],
   "source": [
    "# Load datasets\n",
    "#covid\n",
    "path_dept = join(path_main,'Shapes_carto\\\\indicateur-suivi-covid19-departement-france.csv')\n",
    "df00 = pd.read_csv(path_dept, sep=';')\n",
    "\n",
    "#basetourisme\n",
    "path = 'data_EJE\\\\'\n",
    "file = 'Base-hébergement-tourisme_CC_-2021_maj'\n",
    "try : \n",
    "    map_df = pd.read_csv(join(path_main, path + file+\".csv\"), low_memory=False)\n",
    "except FileNotFoundError:\n",
    "    map_df = pd.read_excel(join(path_main,path + file+\".xlsm\"), \"COM\")\n",
    "    map_df.to_csv(join(path_main,path + file+\".csv\"), index=False)\n",
    "print('{} successfully loaded'.format(file))\n",
    "#base vieillissement pop\n",
    "file = 'insee_rp_hist_1968.xlsx'\n",
    "vp_df = pd.read_excel(join(path_main,path, file), 'Data')\n",
    "vp_df = vp_df.rename(columns = {vp_df.columns[k] :vp_df.iloc[3,k] for k in range(len(vp_df.columns)) })\n",
    "vp_df = vp_df.loc[4:,:]\n",
    "\n",
    "print('{} successfully loaded'.format(file))\n",
    "\n",
    "\n",
    "path = 'Shapes_carto\\\\'\n",
    "file2 = \"communes-20190101.json\"\n",
    "\n",
    "# Opening JSON file\n",
    "f = open(os.path.join(path_main, path + file2))\n",
    "communes = json.load(f)\n",
    "gdf = gpd.GeoDataFrame.from_features(communes)\n",
    "print('{} successfully loaded'.format(file2))\n"
   ]
  },
  {
   "cell_type": "code",
   "execution_count": 235,
   "id": "a09bc37c",
   "metadata": {
    "ExecuteTime": {
     "end_time": "2021-11-29T16:35:19.752208Z",
     "start_time": "2021-11-29T16:35:19.691395Z"
    }
   },
   "outputs": [
    {
     "name": "stderr",
     "output_type": "stream",
     "text": [
      "C:\\Users\\DIAGNE\\anaconda3\\envs\\geo_env\\lib\\site-packages\\IPython\\core\\interactiveshell.py:3441: DtypeWarning: Columns (0) have mixed types.Specify dtype option on import or set low_memory=False.\n",
      "  exec(code_obj, self.user_global_ns, self.user_ns)\n"
     ]
    }
   ],
   "source": [
    "# clc restricted to 2018\n",
    "clc = pd.read_csv(join(path_main, 'clc_2018.csv'), sep =\";\")"
   ]
  },
  {
   "cell_type": "code",
   "execution_count": 238,
   "id": "6e80418a",
   "metadata": {
    "ExecuteTime": {
     "end_time": "2021-11-29T16:35:19.767685Z",
     "start_time": "2021-11-29T16:35:19.753208Z"
    }
   },
   "outputs": [],
   "source": [
    "clc = clc[clc[\"ANNEE\"]==2018]"
   ]
  },
  {
   "cell_type": "code",
   "execution_count": 218,
   "id": "9c80a9f1",
   "metadata": {},
   "outputs": [],
   "source": [
    "#\n",
    "dep_df = map_df"
   ]
  },
  {
   "cell_type": "code",
   "execution_count": 9,
   "id": "1b20ee22",
   "metadata": {
    "ExecuteTime": {
     "end_time": "2021-11-29T16:35:19.799713Z",
     "start_time": "2021-11-29T16:35:19.770265Z"
    }
   },
   "outputs": [],
   "source": [
    "#clc.head()"
   ]
  },
  {
   "cell_type": "markdown",
   "id": "8690c023",
   "metadata": {},
   "source": [
    "## Settings"
   ]
  },
  {
   "cell_type": "code",
   "execution_count": 142,
   "id": "042d7832",
   "metadata": {
    "ExecuteTime": {
     "end_time": "2021-11-29T16:35:19.815053Z",
     "start_time": "2021-11-29T16:35:19.803629Z"
    }
   },
   "outputs": [],
   "source": [
    "pd.set_option(\"display.max_columns\",None) \n",
    "pd.set_option('display.max_colwidth', None) "
   ]
  },
  {
   "cell_type": "code",
   "execution_count": 12,
   "id": "819acb2f",
   "metadata": {
    "ExecuteTime": {
     "end_time": "2021-11-29T16:35:19.831099Z",
     "start_time": "2021-11-29T16:35:19.817050Z"
    }
   },
   "outputs": [],
   "source": [
    "#dep = '06'\n",
    "#dep = '22'\n",
    "#dep = '29'"
   ]
  },
  {
   "cell_type": "code",
   "execution_count": 13,
   "id": "ebe6f14b",
   "metadata": {
    "ExecuteTime": {
     "end_time": "2021-11-29T16:35:19.846146Z",
     "start_time": "2021-11-29T16:35:19.833133Z"
    }
   },
   "outputs": [],
   "source": [
    "# dep_name = \"Alpes Maritimes\"\n",
    "#dep_name = \"Cotes-D'Armor\""
   ]
  },
  {
   "cell_type": "markdown",
   "id": "3a8aa04b",
   "metadata": {},
   "source": [
    "Restrict dataframes to dep"
   ]
  },
  {
   "cell_type": "code",
   "execution_count": 219,
   "id": "8b0c39f8",
   "metadata": {
    "ExecuteTime": {
     "end_time": "2021-11-29T16:35:20.035362Z",
     "start_time": "2021-11-29T16:35:19.852148Z"
    }
   },
   "outputs": [],
   "source": [
    "vp_df = vp_df.rename(columns = {'codgeo' : 'CODGEO', 'libgeo': 'LIBGEO'})\n",
    "vp_df['CODGEO'] = vp_df['CODGEO'].astype(str)\n",
    "#vp_df = vp_df.loc[(vp_df['CODGEO'].str.startswith(dep)) & (vp_df['an'] == '2018' ),:]"
   ]
  },
  {
   "cell_type": "code",
   "execution_count": 220,
   "id": "c6702c67",
   "metadata": {
    "ExecuteTime": {
     "end_time": "2021-11-29T16:35:20.050502Z",
     "start_time": "2021-11-29T16:35:20.037359Z"
    }
   },
   "outputs": [],
   "source": [
    "#Sélection du département \n",
    "#dep_df = map_df.loc[map_df[map_df['DEP'] == dep].index, :]\n",
    "\n",
    "\n",
    "# Tous les départements \n",
    "vp_df = vp_df.loc[(vp_df['an'] == '2018' ),:]"
   ]
  },
  {
   "cell_type": "code",
   "execution_count": 244,
   "id": "0e59b833",
   "metadata": {},
   "outputs": [
    {
     "data": {
      "text/html": [
       "<div>\n",
       "<style scoped>\n",
       "    .dataframe tbody tr th:only-of-type {\n",
       "        vertical-align: middle;\n",
       "    }\n",
       "\n",
       "    .dataframe tbody tr th {\n",
       "        vertical-align: top;\n",
       "    }\n",
       "\n",
       "    .dataframe thead th {\n",
       "        text-align: right;\n",
       "    }\n",
       "</style>\n",
       "<table border=\"1\" class=\"dataframe\">\n",
       "  <thead>\n",
       "    <tr style=\"text-align: right;\">\n",
       "      <th></th>\n",
       "      <th>CODGEO</th>\n",
       "      <th>ANNEE</th>\n",
       "      <th>base</th>\n",
       "      <th>CLC_1</th>\n",
       "      <th>CLC_2</th>\n",
       "      <th>CLC_3</th>\n",
       "      <th>CLC_4</th>\n",
       "      <th>CLC_5</th>\n",
       "    </tr>\n",
       "  </thead>\n",
       "  <tbody>\n",
       "    <tr>\n",
       "      <th>250292</th>\n",
       "      <td>1001</td>\n",
       "      <td>2018</td>\n",
       "      <td>CLC 2018</td>\n",
       "      <td>57.631793</td>\n",
       "      <td>1131.276099</td>\n",
       "      <td>376.566609</td>\n",
       "      <td>0.0</td>\n",
       "      <td>0.000000</td>\n",
       "    </tr>\n",
       "    <tr>\n",
       "      <th>250293</th>\n",
       "      <td>1002</td>\n",
       "      <td>2018</td>\n",
       "      <td>CLC 2018</td>\n",
       "      <td>0.000000</td>\n",
       "      <td>321.820765</td>\n",
       "      <td>591.172335</td>\n",
       "      <td>0.0</td>\n",
       "      <td>0.000000</td>\n",
       "    </tr>\n",
       "    <tr>\n",
       "      <th>250294</th>\n",
       "      <td>1004</td>\n",
       "      <td>2018</td>\n",
       "      <td>CLC 2018</td>\n",
       "      <td>870.920533</td>\n",
       "      <td>377.808737</td>\n",
       "      <td>1200.130679</td>\n",
       "      <td>0.0</td>\n",
       "      <td>0.000000</td>\n",
       "    </tr>\n",
       "    <tr>\n",
       "      <th>250295</th>\n",
       "      <td>1005</td>\n",
       "      <td>2018</td>\n",
       "      <td>CLC 2018</td>\n",
       "      <td>108.074041</td>\n",
       "      <td>1256.275286</td>\n",
       "      <td>55.269926</td>\n",
       "      <td>0.0</td>\n",
       "      <td>185.437198</td>\n",
       "    </tr>\n",
       "    <tr>\n",
       "      <th>250296</th>\n",
       "      <td>1006</td>\n",
       "      <td>2018</td>\n",
       "      <td>CLC 2018</td>\n",
       "      <td>33.099297</td>\n",
       "      <td>124.659585</td>\n",
       "      <td>444.888768</td>\n",
       "      <td>0.0</td>\n",
       "      <td>0.000000</td>\n",
       "    </tr>\n",
       "    <tr>\n",
       "      <th>...</th>\n",
       "      <td>...</td>\n",
       "      <td>...</td>\n",
       "      <td>...</td>\n",
       "      <td>...</td>\n",
       "      <td>...</td>\n",
       "      <td>...</td>\n",
       "      <td>...</td>\n",
       "      <td>...</td>\n",
       "    </tr>\n",
       "    <tr>\n",
       "      <th>286043</th>\n",
       "      <td>95676</td>\n",
       "      <td>2018</td>\n",
       "      <td>CLC 2018</td>\n",
       "      <td>0.001888</td>\n",
       "      <td>415.984175</td>\n",
       "      <td>423.348487</td>\n",
       "      <td>0.0</td>\n",
       "      <td>0.000000</td>\n",
       "    </tr>\n",
       "    <tr>\n",
       "      <th>286044</th>\n",
       "      <td>95678</td>\n",
       "      <td>2018</td>\n",
       "      <td>CLC 2018</td>\n",
       "      <td>76.655659</td>\n",
       "      <td>380.281627</td>\n",
       "      <td>530.241613</td>\n",
       "      <td>0.0</td>\n",
       "      <td>0.000000</td>\n",
       "    </tr>\n",
       "    <tr>\n",
       "      <th>286045</th>\n",
       "      <td>95680</td>\n",
       "      <td>2018</td>\n",
       "      <td>CLC 2018</td>\n",
       "      <td>366.831641</td>\n",
       "      <td>363.211159</td>\n",
       "      <td>0.000000</td>\n",
       "      <td>0.0</td>\n",
       "      <td>0.000000</td>\n",
       "    </tr>\n",
       "    <tr>\n",
       "      <th>286046</th>\n",
       "      <td>95682</td>\n",
       "      <td>2018</td>\n",
       "      <td>CLC 2018</td>\n",
       "      <td>29.644033</td>\n",
       "      <td>289.829967</td>\n",
       "      <td>0.000000</td>\n",
       "      <td>0.0</td>\n",
       "      <td>0.000000</td>\n",
       "    </tr>\n",
       "    <tr>\n",
       "      <th>286047</th>\n",
       "      <td>95690</td>\n",
       "      <td>2018</td>\n",
       "      <td>CLC 2018</td>\n",
       "      <td>26.842348</td>\n",
       "      <td>709.399184</td>\n",
       "      <td>107.628268</td>\n",
       "      <td>0.0</td>\n",
       "      <td>0.000000</td>\n",
       "    </tr>\n",
       "  </tbody>\n",
       "</table>\n",
       "<p>35756 rows × 8 columns</p>\n",
       "</div>"
      ],
      "text/plain": [
       "       CODGEO  ANNEE      base       CLC_1        CLC_2        CLC_3  CLC_4  \\\n",
       "250292   1001   2018  CLC 2018   57.631793  1131.276099   376.566609    0.0   \n",
       "250293   1002   2018  CLC 2018    0.000000   321.820765   591.172335    0.0   \n",
       "250294   1004   2018  CLC 2018  870.920533   377.808737  1200.130679    0.0   \n",
       "250295   1005   2018  CLC 2018  108.074041  1256.275286    55.269926    0.0   \n",
       "250296   1006   2018  CLC 2018   33.099297   124.659585   444.888768    0.0   \n",
       "...       ...    ...       ...         ...          ...          ...    ...   \n",
       "286043  95676   2018  CLC 2018    0.001888   415.984175   423.348487    0.0   \n",
       "286044  95678   2018  CLC 2018   76.655659   380.281627   530.241613    0.0   \n",
       "286045  95680   2018  CLC 2018  366.831641   363.211159     0.000000    0.0   \n",
       "286046  95682   2018  CLC 2018   29.644033   289.829967     0.000000    0.0   \n",
       "286047  95690   2018  CLC 2018   26.842348   709.399184   107.628268    0.0   \n",
       "\n",
       "             CLC_5  \n",
       "250292    0.000000  \n",
       "250293    0.000000  \n",
       "250294    0.000000  \n",
       "250295  185.437198  \n",
       "250296    0.000000  \n",
       "...            ...  \n",
       "286043    0.000000  \n",
       "286044    0.000000  \n",
       "286045    0.000000  \n",
       "286046    0.000000  \n",
       "286047    0.000000  \n",
       "\n",
       "[35756 rows x 8 columns]"
      ]
     },
     "execution_count": 244,
     "metadata": {},
     "output_type": "execute_result"
    }
   ],
   "source": [
    "clc"
   ]
  },
  {
   "cell_type": "code",
   "execution_count": 240,
   "id": "8e32f1af",
   "metadata": {
    "ExecuteTime": {
     "end_time": "2021-11-29T16:35:20.065708Z",
     "start_time": "2021-11-29T16:35:20.052458Z"
    }
   },
   "outputs": [],
   "source": [
    "clc = clc.rename(columns = {'NUM_COM' : 'CODGEO'})\n",
    "clc['CODGEO'] = clc['CODGEO'].astype(str)"
   ]
  },
  {
   "cell_type": "code",
   "execution_count": 146,
   "id": "186448f9",
   "metadata": {
    "ExecuteTime": {
     "end_time": "2021-11-29T16:35:20.097238Z",
     "start_time": "2021-11-29T16:35:20.067693Z"
    }
   },
   "outputs": [],
   "source": [
    "#clc = clc.loc[(clc['CODGEO'].str.startswith(dep)) & (clc['ANNEE'] == 2018 ),:]\n",
    "#clc = clc.loc[(clc['ANNEE'] == 2018 ),:]"
   ]
  },
  {
   "cell_type": "markdown",
   "id": "9f304abb",
   "metadata": {},
   "source": [
    "# Important functions"
   ]
  },
  {
   "cell_type": "code",
   "execution_count": 147,
   "id": "702bc500",
   "metadata": {
    "ExecuteTime": {
     "end_time": "2021-11-29T16:35:20.113127Z",
     "start_time": "2021-11-29T16:35:20.099242Z"
    }
   },
   "outputs": [],
   "source": [
    "def make_table_quartile(column, df = dep_df, name = '', key = 'CODGEO', output_new_df = True) : \n",
    "    \"\"\"[outputs a table dividing one column into quartiles]\n",
    "\n",
    "    Args:\n",
    "        column (str): [name of the column to quartile]\n",
    "        df (DataFrame, optional): [DataFrame containing the column]. Defaults to dep_df.\n",
    "        name (str, optional): [name of the output column containing the quartiles]. Defaults to ''.\n",
    "        key (str, optional): [key of the dataframe ]. Defaults to 'CODGEO'.\n",
    "        output_new_df (bool, optional): [if true the returns a new dataframe containing nly the key, long_key, \n",
    "                                            column and quartiles, if False adds the quartile column to the input \n",
    "                                            dataframe]. Defaults to True.\n",
    "\n",
    "    Prints: \n",
    "        the bounds of each quartiles\n",
    "    Returns:\n",
    "        DataFrame: [DataFrame with the comumns]\n",
    "        Array: [values of the quartiles]\n",
    "    \"\"\"\n",
    "    try : \n",
    "        q_series, q_values = pd.qcut(df[column],  4, labels = range(4), retbins = True)\n",
    "    except ValueError : \n",
    "        q_series, q_values = pd.qcut(df[column].rank(method = 'first'),  4, labels = range(4), retbins = True)\n",
    "        \n",
    "    print('The values of the quartiles are ', q_values)\n",
    "    if name == '' : \n",
    "        name_quartile_column = column + '_quartile'\n",
    "    else : \n",
    "        name_quartile_column = name\n",
    "        \n",
    "    if output_new_df : \n",
    "        temp = df.loc[:,[key,column]]\n",
    "        temp[name_quartile_column] = q_series\n",
    "        return temp, q_values\n",
    "    else : \n",
    "        df[name_quartile_column] = q_series\n",
    "        return df, q_values"
   ]
  },
  {
   "cell_type": "markdown",
   "id": "1f56e869",
   "metadata": {},
   "source": [
    "# Main"
   ]
  },
  {
   "cell_type": "code",
   "execution_count": 148,
   "id": "c151012e",
   "metadata": {
    "ExecuteTime": {
     "end_time": "2021-11-29T16:35:20.129170Z",
     "start_time": "2021-11-29T16:35:20.114783Z"
    }
   },
   "outputs": [],
   "source": [
    "tab = dep_df.loc[:,['CODGEO','LIBGEO']] #output table df\n",
    "quartiles = pd.DataFrame({'indicateur' : [], \n",
    "                         'q0' : [],\n",
    "                         'q1' : [],\n",
    "                         'q2' : [],\n",
    "                         'q3' : [],\n",
    "                         'q4' : []\n",
    "                         })"
   ]
  },
  {
   "cell_type": "markdown",
   "id": "acbfd059",
   "metadata": {},
   "source": [
    "## Indicateurs structurels "
   ]
  },
  {
   "cell_type": "markdown",
   "id": "ed480b03",
   "metadata": {},
   "source": [
    "- Base-hébergement-tourisme_CC_-2021_maj (en csv et en xlsm)\n",
    "    - Le nombre d’habitants (tableau et quartiles) \n",
    "    - Superficie de la commune (tableau et quartiles) \n",
    "    - Nombre de lits marchands de la commune (tableau et quartiles) et __cartographie communale__\n",
    "    - Nombre de lits en résidence secondaire (tableau et quartiles) et __cartographie communale__\n",
    "    - Part de résidences secondaires sur le total des logements (tableau et quartiles) et __cartographie communale__\n",
    "    - Taux de fonction touristique (tableau et quartiles) et __cartographie communale.__\n",
    "    - Le TCAM de la population sur les cinq dernières années (tableau et quartiles) \n",
    "- Base insee\n",
    "    - L’indice de vieillissement (tableau et quartiles) \n",
    "- Base clc\n",
    "    - Part de surfaces artificialisées de la commune (tableau et quartiles) \n",
    "    - Part d’espaces protégés (tableau et quartiles) \n"
   ]
  },
  {
   "cell_type": "markdown",
   "id": "9e0de566",
   "metadata": {},
   "source": [
    "### base hébergement"
   ]
  },
  {
   "cell_type": "markdown",
   "id": "73b9445e",
   "metadata": {},
   "source": [
    "Création indicateurs : \n"
   ]
  },
  {
   "cell_type": "code",
   "execution_count": 20,
   "id": "1d13c739",
   "metadata": {
    "ExecuteTime": {
     "end_time": "2021-11-29T16:35:20.144882Z",
     "start_time": "2021-11-29T16:35:20.130855Z"
    }
   },
   "outputs": [],
   "source": [
    "#part residence secondaire "
   ]
  },
  {
   "cell_type": "code",
   "execution_count": 222,
   "id": "4e675dd3",
   "metadata": {
    "ExecuteTime": {
     "end_time": "2021-11-29T16:35:20.161246Z",
     "start_time": "2021-11-29T16:35:20.146811Z"
    }
   },
   "outputs": [],
   "source": [
    "dep_df['P18_RSP'] = dep_df['P18_RSECOCC'] / (dep_df['P18_RSECOCC'] +dep_df['P18_RP'] )"
   ]
  },
  {
   "cell_type": "code",
   "execution_count": 22,
   "id": "5cd5565e",
   "metadata": {
    "ExecuteTime": {
     "end_time": "2021-11-29T16:35:20.176953Z",
     "start_time": "2021-11-29T16:35:20.162282Z"
    }
   },
   "outputs": [],
   "source": [
    "#tcam"
   ]
  },
  {
   "cell_type": "code",
   "execution_count": 223,
   "id": "f89476a8",
   "metadata": {
    "ExecuteTime": {
     "end_time": "2021-11-29T16:35:20.192361Z",
     "start_time": "2021-11-29T16:35:20.178954Z"
    }
   },
   "outputs": [],
   "source": [
    "dep_df['TCAM'] = np.power(dep_df['POP18']/dep_df['P10_POP'],1/( 2018-2010)) - 1"
   ]
  },
  {
   "cell_type": "code",
   "execution_count": 224,
   "id": "924a59fe",
   "metadata": {
    "ExecuteTime": {
     "end_time": "2021-11-29T16:35:20.208192Z",
     "start_time": "2021-11-29T16:35:20.193361Z"
    }
   },
   "outputs": [],
   "source": [
    "# taux de fonction touristique\n",
    "dep_df['tx_ft'] = (dep_df[\"Lits marchands 2018 (hors PtoP)\"]+dep_df[\"P18_RSECOCC\"]*5) / dep_df[\"POP18\"]"
   ]
  },
  {
   "cell_type": "code",
   "execution_count": 225,
   "id": "4eec801a",
   "metadata": {
    "ExecuteTime": {
     "end_time": "2021-11-29T16:35:20.224567Z",
     "start_time": "2021-11-29T16:35:20.210087Z"
    }
   },
   "outputs": [],
   "source": [
    "# nombre de lits en résidences secondaire en 2018\n",
    "dep_df['P18_LITRS'] = dep_df[\"P18_RSECOCC\"] * 5 "
   ]
  },
  {
   "cell_type": "markdown",
   "id": "51048a89",
   "metadata": {},
   "source": [
    "indicateurs et quartiles"
   ]
  },
  {
   "cell_type": "code",
   "execution_count": 226,
   "id": "b82eab0c",
   "metadata": {
    "ExecuteTime": {
     "end_time": "2021-11-29T16:35:20.240448Z",
     "start_time": "2021-11-29T16:35:20.225604Z"
    }
   },
   "outputs": [],
   "source": [
    "indicateurs_tab = ['tx_ft','POP18', 'SUPERF', 'Lits marchands 2021 inc. PtoP)',\"Lits marchands 2018 (hors PtoP)\",\n",
    "                  'TCAM', 'P18_RSP', 'P18_LITRS']\n",
    "indicateurs_map = ['tx_ft','Lits marchands 2021 inc. PtoP)', \"Lits marchands 2018 (hors PtoP)\", 'P18_RSP', 'P18_LITRS']"
   ]
  },
  {
   "cell_type": "code",
   "execution_count": 227,
   "id": "ce8a2949",
   "metadata": {
    "ExecuteTime": {
     "end_time": "2021-11-29T16:35:20.303678Z",
     "start_time": "2021-11-29T16:35:20.241485Z"
    },
    "scrolled": true
   },
   "outputs": [
    {
     "name": "stdout",
     "output_type": "stream",
     "text": [
      "The values of the quartiles are  [0.00000000e+00 7.01239400e-02 2.08807200e-01 6.24683651e-01\n",
      " 1.78191399e+02]\n",
      "The values of the quartiles are  [0.000000e+00 2.030000e+02 4.670000e+02 1.181000e+03 2.192485e+06]\n",
      "The values of the quartiles are  [4.000e-02 6.480e+00 1.094e+01 1.892e+01 1.836e+04]\n",
      "The values of the quartiles are  [0.00000e+00 2.00000e+00 2.00000e+01 8.60000e+01 3.77143e+05]\n",
      "The values of the quartiles are  [1.00000e+00 8.73850e+03 1.74760e+04 2.62135e+04 3.49510e+04]\n",
      "The values of the quartiles are  [-0.12206413 -0.00280599  0.00465324  0.01275523  0.21719567]\n",
      "The values of the quartiles are  [0.         0.02917183 0.08163265 0.20161757 0.97349989]\n",
      "The values of the quartiles are  [0.00000000e+00 3.51314415e+01 9.61789038e+01 2.55359431e+02\n",
      " 6.42041492e+05]\n"
     ]
    }
   ],
   "source": [
    "for indicator in indicateurs_tab : \n",
    "    tmp , qv = make_table_quartile(indicator)    \n",
    "    tab = pd.merge(tab, tmp, on = 'CODGEO', how = 'left')    \n",
    "    quartiles = pd.concat([quartiles, pd.DataFrame([[indicator] + list(qv)], columns = quartiles.columns)])    "
   ]
  },
  {
   "cell_type": "code",
   "execution_count": 50,
   "id": "dd4c4574",
   "metadata": {
    "scrolled": true
   },
   "outputs": [],
   "source": [
    "#dep_df[['CODGEO', 'LIBGEO', 'Lits marchands 2021 inc. PtoP)']]"
   ]
  },
  {
   "cell_type": "code",
   "execution_count": 51,
   "id": "5b100bb4",
   "metadata": {
    "scrolled": true
   },
   "outputs": [],
   "source": [
    "#dep_df[['CODGEO', 'LIBGEO', 'P18_LITRS']]"
   ]
  },
  {
   "cell_type": "code",
   "execution_count": 52,
   "id": "e1d0a9e5",
   "metadata": {
    "scrolled": true
   },
   "outputs": [],
   "source": [
    "#dep_df[['CODGEO', 'LIBGEO', 'P18_RSP']]"
   ]
  },
  {
   "cell_type": "code",
   "execution_count": 53,
   "id": "ac244e02",
   "metadata": {},
   "outputs": [],
   "source": [
    "#dep_df[['CODGEO', 'LIBGEO', 'tx_ft']]"
   ]
  },
  {
   "cell_type": "markdown",
   "id": "f9b870a7",
   "metadata": {},
   "source": [
    "### base insee"
   ]
  },
  {
   "cell_type": "code",
   "execution_count": 228,
   "id": "02370230",
   "metadata": {
    "ExecuteTime": {
     "end_time": "2021-11-29T16:35:20.335364Z",
     "start_time": "2021-11-29T16:35:20.305671Z"
    }
   },
   "outputs": [
    {
     "name": "stdout",
     "output_type": "stream",
     "text": [
      "The values of the quartiles are  [   0.   66.   91.  132. 6800.]\n"
     ]
    }
   ],
   "source": [
    "tmp , qv = make_table_quartile('ind_vieillist', df = vp_df)    \n",
    "tab = pd.merge(tab, tmp, on = 'CODGEO', how = 'left')    \n",
    "quartiles = pd.concat([quartiles, pd.DataFrame([['ind_vieillist'] + list(qv)], columns = quartiles.columns)])    "
   ]
  },
  {
   "cell_type": "code",
   "execution_count": 229,
   "id": "500cc759",
   "metadata": {
    "ExecuteTime": {
     "end_time": "2021-11-29T16:35:20.350825Z",
     "start_time": "2021-11-29T16:35:20.341013Z"
    }
   },
   "outputs": [],
   "source": [
    "indicateurs_tab.append('ind_vieillist')"
   ]
  },
  {
   "cell_type": "markdown",
   "id": "45ba915a",
   "metadata": {},
   "source": [
    "### CLC "
   ]
  },
  {
   "cell_type": "code",
   "execution_count": 234,
   "id": "5e30dbe2",
   "metadata": {
    "scrolled": true
   },
   "outputs": [
    {
     "data": {
      "text/html": [
       "<div>\n",
       "<style scoped>\n",
       "    .dataframe tbody tr th:only-of-type {\n",
       "        vertical-align: middle;\n",
       "    }\n",
       "\n",
       "    .dataframe tbody tr th {\n",
       "        vertical-align: top;\n",
       "    }\n",
       "\n",
       "    .dataframe thead th {\n",
       "        text-align: right;\n",
       "    }\n",
       "</style>\n",
       "<table border=\"1\" class=\"dataframe\">\n",
       "  <thead>\n",
       "    <tr style=\"text-align: right;\">\n",
       "      <th></th>\n",
       "      <th>CODGEO</th>\n",
       "      <th>ANNEE</th>\n",
       "      <th>base</th>\n",
       "      <th>CLC_1</th>\n",
       "      <th>CLC_2</th>\n",
       "      <th>CLC_3</th>\n",
       "      <th>CLC_4</th>\n",
       "      <th>CLC_5</th>\n",
       "      <th>SUPERF</th>\n",
       "    </tr>\n",
       "  </thead>\n",
       "  <tbody>\n",
       "    <tr>\n",
       "      <th>0</th>\n",
       "      <td>NaN</td>\n",
       "      <td>NaN</td>\n",
       "      <td>NaN</td>\n",
       "      <td>NaN</td>\n",
       "      <td>NaN</td>\n",
       "      <td>NaN</td>\n",
       "      <td>NaN</td>\n",
       "      <td>NaN</td>\n",
       "      <td>NaN</td>\n",
       "    </tr>\n",
       "    <tr>\n",
       "      <th>1</th>\n",
       "      <td>NaN</td>\n",
       "      <td>NaN</td>\n",
       "      <td>NaN</td>\n",
       "      <td>NaN</td>\n",
       "      <td>NaN</td>\n",
       "      <td>NaN</td>\n",
       "      <td>NaN</td>\n",
       "      <td>NaN</td>\n",
       "      <td>NaN</td>\n",
       "    </tr>\n",
       "    <tr>\n",
       "      <th>2</th>\n",
       "      <td>NaN</td>\n",
       "      <td>NaN</td>\n",
       "      <td>NaN</td>\n",
       "      <td>NaN</td>\n",
       "      <td>NaN</td>\n",
       "      <td>NaN</td>\n",
       "      <td>NaN</td>\n",
       "      <td>NaN</td>\n",
       "      <td>NaN</td>\n",
       "    </tr>\n",
       "    <tr>\n",
       "      <th>3</th>\n",
       "      <td>NaN</td>\n",
       "      <td>NaN</td>\n",
       "      <td>NaN</td>\n",
       "      <td>NaN</td>\n",
       "      <td>NaN</td>\n",
       "      <td>NaN</td>\n",
       "      <td>NaN</td>\n",
       "      <td>NaN</td>\n",
       "      <td>NaN</td>\n",
       "    </tr>\n",
       "    <tr>\n",
       "      <th>4</th>\n",
       "      <td>NaN</td>\n",
       "      <td>NaN</td>\n",
       "      <td>NaN</td>\n",
       "      <td>NaN</td>\n",
       "      <td>NaN</td>\n",
       "      <td>NaN</td>\n",
       "      <td>NaN</td>\n",
       "      <td>NaN</td>\n",
       "      <td>NaN</td>\n",
       "    </tr>\n",
       "    <tr>\n",
       "      <th>...</th>\n",
       "      <td>...</td>\n",
       "      <td>...</td>\n",
       "      <td>...</td>\n",
       "      <td>...</td>\n",
       "      <td>...</td>\n",
       "      <td>...</td>\n",
       "      <td>...</td>\n",
       "      <td>...</td>\n",
       "      <td>...</td>\n",
       "    </tr>\n",
       "    <tr>\n",
       "      <th>35751</th>\n",
       "      <td>NaN</td>\n",
       "      <td>NaN</td>\n",
       "      <td>NaN</td>\n",
       "      <td>NaN</td>\n",
       "      <td>NaN</td>\n",
       "      <td>NaN</td>\n",
       "      <td>NaN</td>\n",
       "      <td>NaN</td>\n",
       "      <td>NaN</td>\n",
       "    </tr>\n",
       "    <tr>\n",
       "      <th>35752</th>\n",
       "      <td>NaN</td>\n",
       "      <td>NaN</td>\n",
       "      <td>NaN</td>\n",
       "      <td>NaN</td>\n",
       "      <td>NaN</td>\n",
       "      <td>NaN</td>\n",
       "      <td>NaN</td>\n",
       "      <td>NaN</td>\n",
       "      <td>NaN</td>\n",
       "    </tr>\n",
       "    <tr>\n",
       "      <th>35753</th>\n",
       "      <td>NaN</td>\n",
       "      <td>NaN</td>\n",
       "      <td>NaN</td>\n",
       "      <td>NaN</td>\n",
       "      <td>NaN</td>\n",
       "      <td>NaN</td>\n",
       "      <td>NaN</td>\n",
       "      <td>NaN</td>\n",
       "      <td>NaN</td>\n",
       "    </tr>\n",
       "    <tr>\n",
       "      <th>35754</th>\n",
       "      <td>NaN</td>\n",
       "      <td>NaN</td>\n",
       "      <td>NaN</td>\n",
       "      <td>NaN</td>\n",
       "      <td>NaN</td>\n",
       "      <td>NaN</td>\n",
       "      <td>NaN</td>\n",
       "      <td>NaN</td>\n",
       "      <td>NaN</td>\n",
       "    </tr>\n",
       "    <tr>\n",
       "      <th>35755</th>\n",
       "      <td>NaN</td>\n",
       "      <td>NaN</td>\n",
       "      <td>NaN</td>\n",
       "      <td>NaN</td>\n",
       "      <td>NaN</td>\n",
       "      <td>NaN</td>\n",
       "      <td>NaN</td>\n",
       "      <td>NaN</td>\n",
       "      <td>NaN</td>\n",
       "    </tr>\n",
       "  </tbody>\n",
       "</table>\n",
       "<p>35756 rows × 9 columns</p>\n",
       "</div>"
      ],
      "text/plain": [
       "      CODGEO  ANNEE base  CLC_1  CLC_2  CLC_3  CLC_4  CLC_5  SUPERF\n",
       "0        NaN    NaN  NaN    NaN    NaN    NaN    NaN    NaN     NaN\n",
       "1        NaN    NaN  NaN    NaN    NaN    NaN    NaN    NaN     NaN\n",
       "2        NaN    NaN  NaN    NaN    NaN    NaN    NaN    NaN     NaN\n",
       "3        NaN    NaN  NaN    NaN    NaN    NaN    NaN    NaN     NaN\n",
       "4        NaN    NaN  NaN    NaN    NaN    NaN    NaN    NaN     NaN\n",
       "...      ...    ...  ...    ...    ...    ...    ...    ...     ...\n",
       "35751    NaN    NaN  NaN    NaN    NaN    NaN    NaN    NaN     NaN\n",
       "35752    NaN    NaN  NaN    NaN    NaN    NaN    NaN    NaN     NaN\n",
       "35753    NaN    NaN  NaN    NaN    NaN    NaN    NaN    NaN     NaN\n",
       "35754    NaN    NaN  NaN    NaN    NaN    NaN    NaN    NaN     NaN\n",
       "35755    NaN    NaN  NaN    NaN    NaN    NaN    NaN    NaN     NaN\n",
       "\n",
       "[35756 rows x 9 columns]"
      ]
     },
     "execution_count": 234,
     "metadata": {},
     "output_type": "execute_result"
    }
   ],
   "source": [
    "clc[clc.isna()]"
   ]
  },
  {
   "cell_type": "code",
   "execution_count": null,
   "id": "415de8e7",
   "metadata": {},
   "outputs": [],
   "source": []
  },
  {
   "cell_type": "code",
   "execution_count": 231,
   "id": "dbe62eb5",
   "metadata": {
    "ExecuteTime": {
     "end_time": "2021-11-29T16:35:20.366852Z",
     "start_time": "2021-11-29T16:35:20.351655Z"
    }
   },
   "outputs": [],
   "source": [
    "# on ajoute les variables de dep_df dans clc \n",
    "clc = pd.merge(clc, dep_df[['CODGEO', 'SUPERF']], on = 'CODGEO', how = 'left')"
   ]
  },
  {
   "cell_type": "code",
   "execution_count": 158,
   "id": "1f33c25d",
   "metadata": {
    "ExecuteTime": {
     "end_time": "2021-11-29T16:35:20.381829Z",
     "start_time": "2021-11-29T16:35:20.368677Z"
    }
   },
   "outputs": [],
   "source": [
    "clc['SUPERF'] = clc['SUPERF'] * 100 #km2 to ha"
   ]
  },
  {
   "cell_type": "code",
   "execution_count": 159,
   "id": "18766ae9",
   "metadata": {
    "ExecuteTime": {
     "end_time": "2021-11-29T16:35:20.396970Z",
     "start_time": "2021-11-29T16:35:20.383841Z"
    }
   },
   "outputs": [],
   "source": [
    "clc['surf_artif'] = clc['CLC_1'] / clc['SUPERF']"
   ]
  },
  {
   "cell_type": "code",
   "execution_count": 160,
   "id": "71176aed",
   "metadata": {
    "ExecuteTime": {
     "end_time": "2021-11-29T16:35:20.413277Z",
     "start_time": "2021-11-29T16:35:20.398970Z"
    }
   },
   "outputs": [],
   "source": [
    "clc['surf_protege'] = clc['SUPERF'] - (clc['CLC_1'] + clc['CLC_2'])"
   ]
  },
  {
   "cell_type": "code",
   "execution_count": 161,
   "id": "af4532ab",
   "metadata": {
    "ExecuteTime": {
     "end_time": "2021-11-29T16:35:20.444302Z",
     "start_time": "2021-11-29T16:35:20.414912Z"
    }
   },
   "outputs": [
    {
     "name": "stdout",
     "output_type": "stream",
     "text": [
      "The values of the quartiles are  [1.0000e+00 7.9240e+03 1.5847e+04 2.3770e+04 3.1693e+04]\n"
     ]
    }
   ],
   "source": [
    "tmp , qv = make_table_quartile('surf_artif', df = clc)    \n",
    "tab = pd.merge(tab, tmp, on = 'CODGEO', how = 'left')    \n",
    "quartiles = pd.concat([quartiles, pd.DataFrame([['surf_artif'] + list(qv)], columns = quartiles.columns)])   "
   ]
  },
  {
   "cell_type": "code",
   "execution_count": 162,
   "id": "31dd067c",
   "metadata": {
    "ExecuteTime": {
     "end_time": "2021-11-29T16:35:20.475690Z",
     "start_time": "2021-11-29T16:35:20.446362Z"
    }
   },
   "outputs": [
    {
     "name": "stdout",
     "output_type": "stream",
     "text": [
      "The values of the quartiles are  [ -620.66483706    48.42975907   196.68085074   556.40138034\n",
      " 40575.32858694]\n"
     ]
    }
   ],
   "source": [
    "tmp , qv = make_table_quartile('surf_protege', df = clc)    \n",
    "tab = pd.merge(tab, tmp, on = 'CODGEO', how = 'left')    \n",
    "quartiles = pd.concat([quartiles, pd.DataFrame([['surf_protege'] + list(qv)], columns = quartiles.columns)])   "
   ]
  },
  {
   "cell_type": "code",
   "execution_count": null,
   "id": "4d750f03",
   "metadata": {},
   "outputs": [],
   "source": []
  },
  {
   "cell_type": "code",
   "execution_count": 163,
   "id": "840eb485",
   "metadata": {
    "ExecuteTime": {
     "end_time": "2021-11-29T16:35:20.492075Z",
     "start_time": "2021-11-29T16:35:20.477689Z"
    }
   },
   "outputs": [],
   "source": [
    "indicateurs_tab.append('surf_artif')\n",
    "indicateurs_tab.append('surf_protege')"
   ]
  },
  {
   "cell_type": "markdown",
   "id": "eeb99bdd",
   "metadata": {},
   "source": [
    "## évolution de l'offre"
   ]
  },
  {
   "cell_type": "markdown",
   "id": "5b9a5394",
   "metadata": {},
   "source": [
    "- __Evolution de la capacité d’accueil en lits__ (tableau et quartiles) \n",
    "- Densité de lits au km² (tableau et quartiles)\n",
    "- Evolution des lits marchands (tableau et quartiles) \n",
    "- Evolution des résidences secondaires (tableau et quartiles) "
   ]
  },
  {
   "cell_type": "code",
   "execution_count": 164,
   "id": "1143b0df",
   "metadata": {
    "ExecuteTime": {
     "end_time": "2021-11-29T16:35:20.506968Z",
     "start_time": "2021-11-29T16:35:20.493490Z"
    }
   },
   "outputs": [],
   "source": [
    "# Evolutions capacité en lit \n",
    "dep_df['evol_capa_lit'] = (dep_df['Lits marchands 2018 (hors PtoP)'] + dep_df[\"P18_RSECOCC\"] * 5  ) \n",
    "dep_df['evol_capa_lit'] = dep_df['evol_capa_lit'] - (dep_df['Lits marchands 2015 (hors PtoP)'] + dep_df[\"P15_RSECOCC\"] * 5 )"
   ]
  },
  {
   "cell_type": "code",
   "execution_count": 165,
   "id": "4e529036",
   "metadata": {
    "ExecuteTime": {
     "end_time": "2021-11-29T16:35:20.523222Z",
     "start_time": "2021-11-29T16:35:20.508704Z"
    }
   },
   "outputs": [],
   "source": [
    "# Evolution des lits marchants\n",
    "#2021 2015\n",
    "dep_df['evol_lit_marchant'] = dep_df['Lits marchands 2021 (hors PtoP)'] - dep_df['Lits marchands 2015 (hors PtoP)']"
   ]
  },
  {
   "cell_type": "code",
   "execution_count": 166,
   "id": "b2b1d555",
   "metadata": {
    "ExecuteTime": {
     "end_time": "2021-11-29T16:35:20.539229Z",
     "start_time": "2021-11-29T16:35:20.524222Z"
    }
   },
   "outputs": [],
   "source": [
    "#Evolution des résidences secondaires (tableau et quartiles)#\n",
    "#2018 2015\n",
    "dep_df['evol_rs'] = dep_df['P18_RSECOCC'] - dep_df['P15_RSECOCC']"
   ]
  },
  {
   "cell_type": "code",
   "execution_count": 167,
   "id": "6de2456a",
   "metadata": {
    "ExecuteTime": {
     "end_time": "2021-11-29T16:35:20.555139Z",
     "start_time": "2021-11-29T16:35:20.542174Z"
    }
   },
   "outputs": [],
   "source": [
    "# Densité de lits au km²\n",
    "dep_df['denseite_lit_t'] = dep_df['Lits touristiques 2021 inc. PtoP']/dep_df['SUPERF']"
   ]
  },
  {
   "cell_type": "code",
   "execution_count": 168,
   "id": "d7ca9554",
   "metadata": {
    "ExecuteTime": {
     "end_time": "2021-11-29T16:35:20.570926Z",
     "start_time": "2021-11-29T16:35:20.557134Z"
    }
   },
   "outputs": [],
   "source": [
    "ind_offre = ['evol_lit_marchant', 'evol_rs', 'denseite_lit_t' , 'evol_capa_lit']"
   ]
  },
  {
   "cell_type": "code",
   "execution_count": 169,
   "id": "7680e5e1",
   "metadata": {
    "ExecuteTime": {
     "end_time": "2021-11-29T16:35:20.618125Z",
     "start_time": "2021-11-29T16:35:20.573921Z"
    }
   },
   "outputs": [
    {
     "name": "stdout",
     "output_type": "stream",
     "text": [
      "The values of the quartiles are  [1.00000e+00 8.73850e+03 1.74760e+04 2.62135e+04 3.49510e+04]\n",
      "The values of the quartiles are  [-6.76092505e+02 -1.56045721e+00  2.96296296e-01  2.70237914e+00\n",
      "  1.57573015e+04]\n",
      "The values of the quartiles are  [0.00000000e+00 5.22325309e+00 1.13475082e+01 2.51587105e+01\n",
      " 1.69931915e+04]\n",
      "The values of the quartiles are  [-7.35364383e+03 -9.56690152e+00  1.14454776e+00  1.35050371e+01\n",
      "  8.76525073e+04]\n"
     ]
    }
   ],
   "source": [
    "for indicator in ind_offre : \n",
    "    tmp , qv = make_table_quartile(indicator)    \n",
    "    tab = pd.merge(tab, tmp, on = 'CODGEO', how = 'left')    \n",
    "    quartiles = pd.concat([quartiles, pd.DataFrame([[indicator] + list(qv)], columns = quartiles.columns)])    "
   ]
  },
  {
   "cell_type": "code",
   "execution_count": 170,
   "id": "260fdce4",
   "metadata": {
    "ExecuteTime": {
     "end_time": "2021-11-29T16:35:20.633386Z",
     "start_time": "2021-11-29T16:35:20.619797Z"
    }
   },
   "outputs": [],
   "source": [
    "indicateurs_tab = indicateurs_tab + ind_offre"
   ]
  },
  {
   "cell_type": "markdown",
   "id": "37512cb9",
   "metadata": {},
   "source": [
    "## Concernant la dynamique de la demande\n",
    "\n",
    "-\tSaisonnalité des dépenses étrangères courbes (du département par rapport à la courbe de la moyenne des départements littoraux)\n",
    "-\tDépenses étrangères Tableau et quartiles \n",
    "-\tEvolution des dépenses étrangères Tableau et quartiles\n",
    "-\tEvolution des nuitées hôtelières tableau et quartiles\n",
    "-   Prix de l'immobilier\n"
   ]
  },
  {
   "cell_type": "markdown",
   "id": "803b8a9a",
   "metadata": {},
   "source": [
    "#### Saisonnalité des dépenses étrangères courbes"
   ]
  },
  {
   "cell_type": "code",
   "execution_count": 172,
   "id": "e66f54c0",
   "metadata": {
    "ExecuteTime": {
     "end_time": "2021-11-29T16:35:21.262144Z",
     "start_time": "2021-11-29T16:35:20.634562Z"
    }
   },
   "outputs": [],
   "source": [
    "ret = pd.read_csv(join(path_main, 'data_EJE', 'Résultats Atout France Retrait Toutes CR last.csv' ))\n",
    "paie =  pd.read_csv(join(path_main, 'data_EJE', 'Résultats Atout France Paiement Toutes CR last.csv' ))"
   ]
  },
  {
   "cell_type": "code",
   "execution_count": 78,
   "id": "a12455f7",
   "metadata": {},
   "outputs": [],
   "source": [
    "#path_main = \"\")\n",
    "#ret = pd.read_csv('C:\\\\Users\\\\DIAGNE\\\\Desktop\\\\ENSAE_3A\\\\EJE_POC_IE\\\\data_EJE\\\\Résultats Atout France Retrait Toutes CR last.csv' )\n",
    "#paie = pd.read_csv( 'C:\\\\Users\\\\DIAGNE\\\\Desktop\\\\ENSAE_3A\\\\EJE_POC_IE\\\\data_EJE\\\\Résultats Atout France Paiement Toutes CR last.csv')\n"
   ]
  },
  {
   "cell_type": "code",
   "execution_count": null,
   "id": "c459ed0c",
   "metadata": {},
   "outputs": [],
   "source": [
    "# Pour l'indicateur de saisonnalité à intégrer on considère le montant de dépense annuel moyen"
   ]
  },
  {
   "cell_type": "code",
   "execution_count": 95,
   "id": "492d6ebc",
   "metadata": {
    "ExecuteTime": {
     "end_time": "2021-11-29T16:35:21.292458Z",
     "start_time": "2021-11-29T16:35:21.265139Z"
    },
    "scrolled": true
   },
   "outputs": [],
   "source": [
    "#paie.head()"
   ]
  },
  {
   "cell_type": "code",
   "execution_count": 98,
   "id": "9d1ac58a",
   "metadata": {
    "scrolled": true
   },
   "outputs": [],
   "source": [
    "#test = paie[paie['Département'].isin(dep_littoraux)].groupby(['Année','Département'], as_index = False).mean()"
   ]
  },
  {
   "cell_type": "code",
   "execution_count": 173,
   "id": "fae70764",
   "metadata": {},
   "outputs": [],
   "source": [
    "test[test['Année']==2021]"
   ]
  },
  {
   "cell_type": "code",
   "execution_count": 82,
   "id": "cf27eeae",
   "metadata": {
    "ExecuteTime": {
     "end_time": "2021-11-29T16:35:21.308238Z",
     "start_time": "2021-11-29T16:35:21.294431Z"
    }
   },
   "outputs": [],
   "source": [
    "dep_littoraux = [\n",
    "\"Nord\",\n",
    "\"Pas-de-Calais\",\n",
    "\"Somme\",\n",
    "\"Seine-Maritime\",\n",
    "\"Eure\",\n",
    "\"Calvados\",\n",
    "\"Manche\",\n",
    "\"Ille-et-Vilaine\",\n",
    "\"Cotes-D'Armor\",\n",
    "'Finistere',\n",
    "'Morbihan',\n",
    "'Loire-Atlantique',\n",
    "'Vendee',\n",
    "'Charente-Maritime',\n",
    "'Gironde',\n",
    "'Landes',\n",
    "'Pyrenees-Atlantiques',\n",
    "\"Pyrenees-Orientales\",\n",
    "\"Aude\",\n",
    "\"Herault\",\n",
    "\"Gard\",\n",
    "\"Bouches-du-Rhone\",\n",
    "\"Var\",\n",
    "\"Alpes-Maritimes\",\n",
    "\"Corse\"]"
   ]
  },
  {
   "cell_type": "code",
   "execution_count": 83,
   "id": "bbfcf987",
   "metadata": {
    "ExecuteTime": {
     "end_time": "2021-11-29T16:35:21.418241Z",
     "start_time": "2021-11-29T16:35:21.310189Z"
    }
   },
   "outputs": [],
   "source": [
    "paie_litt = paie[paie['Département'].isin(dep_littoraux)].groupby(['Année', 'Mois', 'Département'], as_index = False).sum().groupby(['Année', 'Mois'], as_index = False).mean().groupby('Mois', as_index = False).mean().drop(['Année', 'Nb Paiements'], axis = 1)"
   ]
  },
  {
   "cell_type": "code",
   "execution_count": 84,
   "id": "5da19a10",
   "metadata": {},
   "outputs": [
    {
     "data": {
      "text/html": [
       "<div>\n",
       "<style scoped>\n",
       "    .dataframe tbody tr th:only-of-type {\n",
       "        vertical-align: middle;\n",
       "    }\n",
       "\n",
       "    .dataframe tbody tr th {\n",
       "        vertical-align: top;\n",
       "    }\n",
       "\n",
       "    .dataframe thead th {\n",
       "        text-align: right;\n",
       "    }\n",
       "</style>\n",
       "<table border=\"1\" class=\"dataframe\">\n",
       "  <thead>\n",
       "    <tr style=\"text-align: right;\">\n",
       "      <th></th>\n",
       "      <th>Mois</th>\n",
       "      <th>Montant Paiement</th>\n",
       "    </tr>\n",
       "  </thead>\n",
       "  <tbody>\n",
       "    <tr>\n",
       "      <th>0</th>\n",
       "      <td>1.0</td>\n",
       "      <td>9.480941e+05</td>\n",
       "    </tr>\n",
       "    <tr>\n",
       "      <th>1</th>\n",
       "      <td>2.0</td>\n",
       "      <td>9.097125e+05</td>\n",
       "    </tr>\n",
       "    <tr>\n",
       "      <th>2</th>\n",
       "      <td>3.0</td>\n",
       "      <td>1.060910e+06</td>\n",
       "    </tr>\n",
       "    <tr>\n",
       "      <th>3</th>\n",
       "      <td>4.0</td>\n",
       "      <td>1.395988e+06</td>\n",
       "    </tr>\n",
       "    <tr>\n",
       "      <th>4</th>\n",
       "      <td>5.0</td>\n",
       "      <td>1.770064e+06</td>\n",
       "    </tr>\n",
       "  </tbody>\n",
       "</table>\n",
       "</div>"
      ],
      "text/plain": [
       "   Mois  Montant Paiement\n",
       "0   1.0      9.480941e+05\n",
       "1   2.0      9.097125e+05\n",
       "2   3.0      1.060910e+06\n",
       "3   4.0      1.395988e+06\n",
       "4   5.0      1.770064e+06"
      ]
     },
     "execution_count": 84,
     "metadata": {},
     "output_type": "execute_result"
    }
   ],
   "source": [
    "paie_litt.head()"
   ]
  },
  {
   "cell_type": "code",
   "execution_count": 52,
   "id": "6871f8dc",
   "metadata": {
    "ExecuteTime": {
     "end_time": "2021-11-29T16:35:21.481202Z",
     "start_time": "2021-11-29T16:35:21.419853Z"
    }
   },
   "outputs": [],
   "source": [
    "#paie_dep = paie[paie['Département'] == dep_name].groupby(['Année', 'Mois'], as_index = False).sum().groupby('Mois', as_index = False).mean().drop(['Année', 'Nb Paiements'], axis = 1)"
   ]
  },
  {
   "cell_type": "code",
   "execution_count": 57,
   "id": "dc26de3b",
   "metadata": {
    "ExecuteTime": {
     "end_time": "2021-11-29T16:35:21.827065Z",
     "start_time": "2021-11-29T16:35:21.591290Z"
    },
    "scrolled": true
   },
   "outputs": [
    {
     "name": "stderr",
     "output_type": "stream",
     "text": [
      "C:\\Users\\DIAGNE\\AppData\\Local\\Temp/ipykernel_7916/1884845393.py:6: UserWarning: FixedFormatter should only be used together with FixedLocator\n",
      "  ax.set_yticklabels(ylabels)\n"
     ]
    },
    {
     "data": {
      "image/png": "[encoded data removed]",
      "text/plain": [
       "<Figure size 432x288 with 1 Axes>"
      ]
     },
     "metadata": {},
     "output_type": "display_data"
    }
   ],
   "source": [
    "ax = sns.lineplot(data = paie_litt[['Montant Paiement_litt', 'Montant Paiement_dep']]\n",
    "                 )\n",
    "ax.set_xlabel(\"Mois\")\n",
    "ax.set_ylabel(\"Argent dépensé\")\n",
    "ylabels = ['{:,.0f}'.format(x) + 'M' for x in ax.get_yticks()/100000]\n",
    "ax.set_yticklabels(ylabels)\n",
    "plt.xticks(range(12), labels = range(1, 13))\n",
    "plt.legend(labels=[\"En moyenne dans le littoral\",\"En moyenne en {}\".format(dep_name)], bbox_to_anchor = (1,1))\n",
    "plt.show()\n"
   ]
  },
  {
   "cell_type": "markdown",
   "id": "2eae9b88",
   "metadata": {},
   "source": [
    "#### prix de l'immobilier "
   ]
  },
  {
   "cell_type": "code",
   "execution_count": 174,
   "id": "3ebc7d42",
   "metadata": {
    "ExecuteTime": {
     "end_time": "2021-11-29T16:35:21.935205Z",
     "start_time": "2021-11-29T16:35:21.843979Z"
    }
   },
   "outputs": [],
   "source": [
    "immo = pd.read_csv(join(path_main, 'prixm2-loyer-communes-2019.csv'))"
   ]
  },
  {
   "cell_type": "code",
   "execution_count": 103,
   "id": "b575483b",
   "metadata": {
    "ExecuteTime": {
     "end_time": "2021-11-29T16:35:21.950694Z",
     "start_time": "2021-11-29T16:35:21.936733Z"
    }
   },
   "outputs": [],
   "source": [
    "#immo.head(5)"
   ]
  },
  {
   "cell_type": "code",
   "execution_count": 175,
   "id": "64235db1",
   "metadata": {
    "ExecuteTime": {
     "end_time": "2021-11-29T16:35:21.965957Z",
     "start_time": "2021-11-29T16:35:21.951691Z"
    }
   },
   "outputs": [],
   "source": [
    "immo = immo.rename(columns = {'INSEE_COM' : 'CODGEO'})"
   ]
  },
  {
   "cell_type": "code",
   "execution_count": 124,
   "id": "57647450",
   "metadata": {
    "ExecuteTime": {
     "end_time": "2021-11-29T16:35:21.981290Z",
     "start_time": "2021-11-29T16:35:21.967376Z"
    }
   },
   "outputs": [],
   "source": [
    "#immo = immo.loc[immo['INSEE_DEP'] == str(int(dep)),:]"
   ]
  },
  {
   "cell_type": "code",
   "execution_count": 176,
   "id": "163b3327",
   "metadata": {
    "ExecuteTime": {
     "end_time": "2021-11-29T16:35:21.996932Z",
     "start_time": "2021-11-29T16:35:21.982589Z"
    },
    "scrolled": true
   },
   "outputs": [],
   "source": [
    "immo['CODGEO'] = immo['CODGEO'].astype(str)\n",
    "dep_df['CODGEO'] = dep_df['CODGEO'].astype(str)\n",
    "tab['CODGEO'] = tab['CODGEO'].astype(str)"
   ]
  },
  {
   "cell_type": "code",
   "execution_count": 177,
   "id": "3657bf74",
   "metadata": {
    "ExecuteTime": {
     "end_time": "2021-11-29T16:35:22.013232Z",
     "start_time": "2021-11-29T16:35:21.998930Z"
    }
   },
   "outputs": [],
   "source": [
    "indicateur_immo = ['PrixMoyen_M2', 'loyer_apparts']"
   ]
  },
  {
   "cell_type": "code",
   "execution_count": 178,
   "id": "f4836d17",
   "metadata": {
    "ExecuteTime": {
     "end_time": "2021-11-29T16:35:22.044875Z",
     "start_time": "2021-11-29T16:35:22.015229Z"
    }
   },
   "outputs": [
    {
     "name": "stdout",
     "output_type": "stream",
     "text": [
      "The values of the quartiles are  [    0.     578.    1240.5   1748.75 14803.  ]\n",
      "The values of the quartiles are  [ 0.          7.67810651  8.60729338  9.8263567  36.65443839]\n"
     ]
    }
   ],
   "source": [
    "for indicator in indicateur_immo : \n",
    "    tmp , qv = make_table_quartile(indicator, immo)    \n",
    "    tab = pd.merge(tab, tmp, on = 'CODGEO', how = 'left')    \n",
    "    quartiles = pd.concat([quartiles, pd.DataFrame([[indicator] + list(qv)], columns = quartiles.columns)])    "
   ]
  },
  {
   "cell_type": "markdown",
   "id": "dd6ead2a",
   "metadata": {},
   "source": [
    "### save "
   ]
  },
  {
   "cell_type": "code",
   "execution_count": 179,
   "id": "bda0bd17",
   "metadata": {},
   "outputs": [
    {
     "data": {
      "text/html": [
       "<div>\n",
       "<style scoped>\n",
       "    .dataframe tbody tr th:only-of-type {\n",
       "        vertical-align: middle;\n",
       "    }\n",
       "\n",
       "    .dataframe tbody tr th {\n",
       "        vertical-align: top;\n",
       "    }\n",
       "\n",
       "    .dataframe thead th {\n",
       "        text-align: right;\n",
       "    }\n",
       "</style>\n",
       "<table border=\"1\" class=\"dataframe\">\n",
       "  <thead>\n",
       "    <tr style=\"text-align: right;\">\n",
       "      <th></th>\n",
       "      <th>tx_ft</th>\n",
       "      <th>POP18</th>\n",
       "      <th>SUPERF</th>\n",
       "      <th>Lits marchands 2021 inc. PtoP)</th>\n",
       "      <th>Lits marchands 2018 (hors PtoP)</th>\n",
       "      <th>TCAM</th>\n",
       "      <th>P18_RSP</th>\n",
       "      <th>P18_LITRS</th>\n",
       "      <th>surf_artif</th>\n",
       "      <th>surf_protege</th>\n",
       "      <th>evol_lit_marchant</th>\n",
       "      <th>evol_rs</th>\n",
       "      <th>denseite_lit_t</th>\n",
       "      <th>evol_capa_lit</th>\n",
       "      <th>PrixMoyen_M2</th>\n",
       "      <th>loyer_apparts</th>\n",
       "    </tr>\n",
       "  </thead>\n",
       "  <tbody>\n",
       "    <tr>\n",
       "      <th>count</th>\n",
       "      <td>34945.000000</td>\n",
       "      <td>3.495100e+04</td>\n",
       "      <td>34950.000000</td>\n",
       "      <td>34951.000000</td>\n",
       "      <td>34951.000000</td>\n",
       "      <td>34944.000000</td>\n",
       "      <td>34942.000000</td>\n",
       "      <td>34951.000000</td>\n",
       "      <td>31693.000000</td>\n",
       "      <td>31693.000000</td>\n",
       "      <td>34951.000000</td>\n",
       "      <td>34950.000000</td>\n",
       "      <td>34950.000000</td>\n",
       "      <td>34950.000000</td>\n",
       "      <td>31694.000000</td>\n",
       "      <td>31694.000000</td>\n",
       "    </tr>\n",
       "    <tr>\n",
       "      <th>mean</th>\n",
       "      <td>0.725183</td>\n",
       "      <td>1.944818e+03</td>\n",
       "      <td>18.103974</td>\n",
       "      <td>259.346113</td>\n",
       "      <td>143.625275</td>\n",
       "      <td>0.005245</td>\n",
       "      <td>0.144650</td>\n",
       "      <td>502.688798</td>\n",
       "      <td>0.078253</td>\n",
       "      <td>529.108545</td>\n",
       "      <td>-3.191554</td>\n",
       "      <td>4.783496</td>\n",
       "      <td>48.432164</td>\n",
       "      <td>22.521802</td>\n",
       "      <td>1250.893008</td>\n",
       "      <td>9.009131</td>\n",
       "    </tr>\n",
       "    <tr>\n",
       "      <th>std</th>\n",
       "      <td>2.104956</td>\n",
       "      <td>1.521480e+04</td>\n",
       "      <td>147.470981</td>\n",
       "      <td>2538.846252</td>\n",
       "      <td>1309.342403</td>\n",
       "      <td>0.013962</td>\n",
       "      <td>0.163206</td>\n",
       "      <td>4589.206101</td>\n",
       "      <td>0.143119</td>\n",
       "      <td>1158.720927</td>\n",
       "      <td>162.048816</td>\n",
       "      <td>99.865220</td>\n",
       "      <td>293.383182</td>\n",
       "      <td>553.220275</td>\n",
       "      <td>998.417180</td>\n",
       "      <td>1.950258</td>\n",
       "    </tr>\n",
       "    <tr>\n",
       "      <th>min</th>\n",
       "      <td>0.000000</td>\n",
       "      <td>0.000000e+00</td>\n",
       "      <td>0.040000</td>\n",
       "      <td>0.000000</td>\n",
       "      <td>0.000000</td>\n",
       "      <td>-0.122064</td>\n",
       "      <td>0.000000</td>\n",
       "      <td>0.000000</td>\n",
       "      <td>0.000000</td>\n",
       "      <td>-620.664837</td>\n",
       "      <td>-7224.000000</td>\n",
       "      <td>-676.092505</td>\n",
       "      <td>0.000000</td>\n",
       "      <td>-7353.643828</td>\n",
       "      <td>0.000000</td>\n",
       "      <td>0.000000</td>\n",
       "    </tr>\n",
       "    <tr>\n",
       "      <th>25%</th>\n",
       "      <td>0.070124</td>\n",
       "      <td>2.030000e+02</td>\n",
       "      <td>6.480000</td>\n",
       "      <td>2.000000</td>\n",
       "      <td>0.000000</td>\n",
       "      <td>-0.002806</td>\n",
       "      <td>0.029172</td>\n",
       "      <td>35.131442</td>\n",
       "      <td>0.000000</td>\n",
       "      <td>48.429759</td>\n",
       "      <td>0.000000</td>\n",
       "      <td>-1.560457</td>\n",
       "      <td>5.223253</td>\n",
       "      <td>-9.566902</td>\n",
       "      <td>571.000000</td>\n",
       "      <td>7.669686</td>\n",
       "    </tr>\n",
       "    <tr>\n",
       "      <th>50%</th>\n",
       "      <td>0.208807</td>\n",
       "      <td>4.670000e+02</td>\n",
       "      <td>10.940000</td>\n",
       "      <td>20.000000</td>\n",
       "      <td>0.000000</td>\n",
       "      <td>0.004653</td>\n",
       "      <td>0.081633</td>\n",
       "      <td>96.178904</td>\n",
       "      <td>0.032270</td>\n",
       "      <td>196.680851</td>\n",
       "      <td>0.000000</td>\n",
       "      <td>0.296296</td>\n",
       "      <td>11.347508</td>\n",
       "      <td>1.144548</td>\n",
       "      <td>1240.500000</td>\n",
       "      <td>8.591317</td>\n",
       "    </tr>\n",
       "    <tr>\n",
       "      <th>75%</th>\n",
       "      <td>0.624684</td>\n",
       "      <td>1.181000e+03</td>\n",
       "      <td>18.920000</td>\n",
       "      <td>86.000000</td>\n",
       "      <td>10.000000</td>\n",
       "      <td>0.012755</td>\n",
       "      <td>0.201618</td>\n",
       "      <td>255.359431</td>\n",
       "      <td>0.081806</td>\n",
       "      <td>556.401380</td>\n",
       "      <td>0.000000</td>\n",
       "      <td>2.702379</td>\n",
       "      <td>25.158710</td>\n",
       "      <td>13.505037</td>\n",
       "      <td>1748.000000</td>\n",
       "      <td>9.878471</td>\n",
       "    </tr>\n",
       "    <tr>\n",
       "      <th>max</th>\n",
       "      <td>178.191399</td>\n",
       "      <td>2.192485e+06</td>\n",
       "      <td>18360.000000</td>\n",
       "      <td>377143.000000</td>\n",
       "      <td>183664.000000</td>\n",
       "      <td>0.217196</td>\n",
       "      <td>0.973500</td>\n",
       "      <td>642041.491503</td>\n",
       "      <td>1.386459</td>\n",
       "      <td>40575.328587</td>\n",
       "      <td>16461.000000</td>\n",
       "      <td>15757.301470</td>\n",
       "      <td>16993.191489</td>\n",
       "      <td>87652.507349</td>\n",
       "      <td>14803.000000</td>\n",
       "      <td>29.982547</td>\n",
       "    </tr>\n",
       "  </tbody>\n",
       "</table>\n",
       "</div>"
      ],
      "text/plain": [
       "              tx_ft         POP18        SUPERF  \\\n",
       "count  34945.000000  3.495100e+04  34950.000000   \n",
       "mean       0.725183  1.944818e+03     18.103974   \n",
       "std        2.104956  1.521480e+04    147.470981   \n",
       "min        0.000000  0.000000e+00      0.040000   \n",
       "25%        0.070124  2.030000e+02      6.480000   \n",
       "50%        0.208807  4.670000e+02     10.940000   \n",
       "75%        0.624684  1.181000e+03     18.920000   \n",
       "max      178.191399  2.192485e+06  18360.000000   \n",
       "\n",
       "       Lits marchands 2021 inc. PtoP)  Lits marchands 2018 (hors PtoP)  \\\n",
       "count                    34951.000000                     34951.000000   \n",
       "mean                       259.346113                       143.625275   \n",
       "std                       2538.846252                      1309.342403   \n",
       "min                          0.000000                         0.000000   \n",
       "25%                          2.000000                         0.000000   \n",
       "50%                         20.000000                         0.000000   \n",
       "75%                         86.000000                        10.000000   \n",
       "max                     377143.000000                    183664.000000   \n",
       "\n",
       "               TCAM       P18_RSP      P18_LITRS    surf_artif  surf_protege  \\\n",
       "count  34944.000000  34942.000000   34951.000000  31693.000000  31693.000000   \n",
       "mean       0.005245      0.144650     502.688798      0.078253    529.108545   \n",
       "std        0.013962      0.163206    4589.206101      0.143119   1158.720927   \n",
       "min       -0.122064      0.000000       0.000000      0.000000   -620.664837   \n",
       "25%       -0.002806      0.029172      35.131442      0.000000     48.429759   \n",
       "50%        0.004653      0.081633      96.178904      0.032270    196.680851   \n",
       "75%        0.012755      0.201618     255.359431      0.081806    556.401380   \n",
       "max        0.217196      0.973500  642041.491503      1.386459  40575.328587   \n",
       "\n",
       "       evol_lit_marchant       evol_rs  denseite_lit_t  evol_capa_lit  \\\n",
       "count       34951.000000  34950.000000    34950.000000   34950.000000   \n",
       "mean           -3.191554      4.783496       48.432164      22.521802   \n",
       "std           162.048816     99.865220      293.383182     553.220275   \n",
       "min         -7224.000000   -676.092505        0.000000   -7353.643828   \n",
       "25%             0.000000     -1.560457        5.223253      -9.566902   \n",
       "50%             0.000000      0.296296       11.347508       1.144548   \n",
       "75%             0.000000      2.702379       25.158710      13.505037   \n",
       "max         16461.000000  15757.301470    16993.191489   87652.507349   \n",
       "\n",
       "       PrixMoyen_M2  loyer_apparts  \n",
       "count  31694.000000   31694.000000  \n",
       "mean    1250.893008       9.009131  \n",
       "std      998.417180       1.950258  \n",
       "min        0.000000       0.000000  \n",
       "25%      571.000000       7.669686  \n",
       "50%     1240.500000       8.591317  \n",
       "75%     1748.000000       9.878471  \n",
       "max    14803.000000      29.982547  "
      ]
     },
     "execution_count": 179,
     "metadata": {},
     "output_type": "execute_result"
    }
   ],
   "source": [
    "tab.describe()"
   ]
  },
  {
   "cell_type": "code",
   "execution_count": 180,
   "id": "5c52936e",
   "metadata": {
    "ExecuteTime": {
     "end_time": "2021-11-29T16:35:22.060146Z",
     "start_time": "2021-11-29T16:35:22.046875Z"
    }
   },
   "outputs": [],
   "source": [
    "path_ALL = \"C:\\\\Users\\\\DIAGNE\\\\Desktop\\\\ENSAE_3A\\\\EJE_POC_IE\\\\EJE_POC_IE-main\\\\ALL_dep\\\\\"\n",
    "tab.to_csv(join(path_ALL,'indicateurs_ALL_dep.csv'))\n",
    "#quartiles.to_csv(join(path_main, dep, 'quartiles_indicateurs_{}.csv'.format(dep)))"
   ]
  },
  {
   "cell_type": "code",
   "execution_count": 58,
   "id": "03f707a3",
   "metadata": {},
   "outputs": [],
   "source": [
    "#tab.to_csv('indicateurs_29.csv')\n",
    "#quartiles.to_csv('quartiles_indicateurs_29.csv')"
   ]
  },
  {
   "cell_type": "code",
   "execution_count": 201,
   "id": "b45f1844",
   "metadata": {},
   "outputs": [],
   "source": [
    "# si on considère les 10 départements \n",
    "\n",
    " \n",
    "dep10 = ('06','17','22','29','33','34','35','44','57','83')\n",
    "tab10 = tab.loc[tab['CODGEO'].str.startswith(dep10),]"
   ]
  },
  {
   "cell_type": "code",
   "execution_count": 212,
   "id": "fe2c3e5b",
   "metadata": {},
   "outputs": [
    {
     "data": {
      "text/html": [
       "<div>\n",
       "<style scoped>\n",
       "    .dataframe tbody tr th:only-of-type {\n",
       "        vertical-align: middle;\n",
       "    }\n",
       "\n",
       "    .dataframe tbody tr th {\n",
       "        vertical-align: top;\n",
       "    }\n",
       "\n",
       "    .dataframe thead th {\n",
       "        text-align: right;\n",
       "    }\n",
       "</style>\n",
       "<table border=\"1\" class=\"dataframe\">\n",
       "  <thead>\n",
       "    <tr style=\"text-align: right;\">\n",
       "      <th></th>\n",
       "      <th>CODGEO</th>\n",
       "      <th>surf_artif</th>\n",
       "    </tr>\n",
       "  </thead>\n",
       "  <tbody>\n",
       "    <tr>\n",
       "      <th>1870</th>\n",
       "      <td>06001</td>\n",
       "      <td>NaN</td>\n",
       "    </tr>\n",
       "    <tr>\n",
       "      <th>1871</th>\n",
       "      <td>06002</td>\n",
       "      <td>NaN</td>\n",
       "    </tr>\n",
       "    <tr>\n",
       "      <th>1872</th>\n",
       "      <td>06003</td>\n",
       "      <td>NaN</td>\n",
       "    </tr>\n",
       "    <tr>\n",
       "      <th>1873</th>\n",
       "      <td>06004</td>\n",
       "      <td>NaN</td>\n",
       "    </tr>\n",
       "    <tr>\n",
       "      <th>1874</th>\n",
       "      <td>06005</td>\n",
       "      <td>NaN</td>\n",
       "    </tr>\n",
       "    <tr>\n",
       "      <th>...</th>\n",
       "      <td>...</td>\n",
       "      <td>...</td>\n",
       "    </tr>\n",
       "    <tr>\n",
       "      <th>2028</th>\n",
       "      <td>06159</td>\n",
       "      <td>NaN</td>\n",
       "    </tr>\n",
       "    <tr>\n",
       "      <th>2029</th>\n",
       "      <td>06160</td>\n",
       "      <td>NaN</td>\n",
       "    </tr>\n",
       "    <tr>\n",
       "      <th>2030</th>\n",
       "      <td>06161</td>\n",
       "      <td>NaN</td>\n",
       "    </tr>\n",
       "    <tr>\n",
       "      <th>2031</th>\n",
       "      <td>06162</td>\n",
       "      <td>NaN</td>\n",
       "    </tr>\n",
       "    <tr>\n",
       "      <th>2032</th>\n",
       "      <td>06163</td>\n",
       "      <td>NaN</td>\n",
       "    </tr>\n",
       "  </tbody>\n",
       "</table>\n",
       "<p>163 rows × 2 columns</p>\n",
       "</div>"
      ],
      "text/plain": [
       "     CODGEO  surf_artif\n",
       "1870  06001         NaN\n",
       "1871  06002         NaN\n",
       "1872  06003         NaN\n",
       "1873  06004         NaN\n",
       "1874  06005         NaN\n",
       "...     ...         ...\n",
       "2028  06159         NaN\n",
       "2029  06160         NaN\n",
       "2030  06161         NaN\n",
       "2031  06162         NaN\n",
       "2032  06163         NaN\n",
       "\n",
       "[163 rows x 2 columns]"
      ]
     },
     "execution_count": 212,
     "metadata": {},
     "output_type": "execute_result"
    }
   ],
   "source": [
    "tab10[tab10['CODGEO'].str.startswith('06')][['CODGEO','surf_artif']]"
   ]
  },
  {
   "cell_type": "code",
   "execution_count": 203,
   "id": "e95efeb6",
   "metadata": {},
   "outputs": [
    {
     "data": {
      "text/html": [
       "<div>\n",
       "<style scoped>\n",
       "    .dataframe tbody tr th:only-of-type {\n",
       "        vertical-align: middle;\n",
       "    }\n",
       "\n",
       "    .dataframe tbody tr th {\n",
       "        vertical-align: top;\n",
       "    }\n",
       "\n",
       "    .dataframe thead th {\n",
       "        text-align: right;\n",
       "    }\n",
       "</style>\n",
       "<table border=\"1\" class=\"dataframe\">\n",
       "  <thead>\n",
       "    <tr style=\"text-align: right;\">\n",
       "      <th></th>\n",
       "      <th>CODGEO</th>\n",
       "      <th>LIBGEO</th>\n",
       "      <th>tx_ft</th>\n",
       "      <th>tx_ft_quartile</th>\n",
       "      <th>POP18</th>\n",
       "      <th>POP18_quartile</th>\n",
       "      <th>SUPERF</th>\n",
       "      <th>SUPERF_quartile</th>\n",
       "      <th>Lits marchands 2021 inc. PtoP)</th>\n",
       "      <th>Lits marchands 2021 inc. PtoP)_quartile</th>\n",
       "      <th>Lits marchands 2018 (hors PtoP)</th>\n",
       "      <th>Lits marchands 2018 (hors PtoP)_quartile</th>\n",
       "      <th>TCAM</th>\n",
       "      <th>TCAM_quartile</th>\n",
       "      <th>P18_RSP</th>\n",
       "      <th>P18_RSP_quartile</th>\n",
       "      <th>P18_LITRS</th>\n",
       "      <th>P18_LITRS_quartile</th>\n",
       "      <th>ind_vieillist</th>\n",
       "      <th>ind_vieillist_quartile</th>\n",
       "      <th>surf_artif</th>\n",
       "      <th>surf_artif_quartile</th>\n",
       "      <th>surf_protege</th>\n",
       "      <th>surf_protege_quartile</th>\n",
       "      <th>evol_lit_marchant</th>\n",
       "      <th>evol_lit_marchant_quartile</th>\n",
       "      <th>evol_rs</th>\n",
       "      <th>evol_rs_quartile</th>\n",
       "      <th>denseite_lit_t</th>\n",
       "      <th>denseite_lit_t_quartile</th>\n",
       "      <th>evol_capa_lit</th>\n",
       "      <th>evol_capa_lit_quartile</th>\n",
       "      <th>PrixMoyen_M2</th>\n",
       "      <th>PrixMoyen_M2_quartile</th>\n",
       "      <th>loyer_apparts</th>\n",
       "      <th>loyer_apparts_quartile</th>\n",
       "    </tr>\n",
       "  </thead>\n",
       "  <tbody>\n",
       "    <tr>\n",
       "      <th>1870</th>\n",
       "      <td>NaN</td>\n",
       "      <td>NaN</td>\n",
       "      <td>NaN</td>\n",
       "      <td>NaN</td>\n",
       "      <td>NaN</td>\n",
       "      <td>NaN</td>\n",
       "      <td>NaN</td>\n",
       "      <td>NaN</td>\n",
       "      <td>NaN</td>\n",
       "      <td>NaN</td>\n",
       "      <td>NaN</td>\n",
       "      <td>NaN</td>\n",
       "      <td>NaN</td>\n",
       "      <td>NaN</td>\n",
       "      <td>NaN</td>\n",
       "      <td>NaN</td>\n",
       "      <td>NaN</td>\n",
       "      <td>NaN</td>\n",
       "      <td>NaN</td>\n",
       "      <td>NaN</td>\n",
       "      <td>NaN</td>\n",
       "      <td>NaN</td>\n",
       "      <td>NaN</td>\n",
       "      <td>NaN</td>\n",
       "      <td>NaN</td>\n",
       "      <td>NaN</td>\n",
       "      <td>NaN</td>\n",
       "      <td>NaN</td>\n",
       "      <td>NaN</td>\n",
       "      <td>NaN</td>\n",
       "      <td>NaN</td>\n",
       "      <td>NaN</td>\n",
       "      <td>NaN</td>\n",
       "      <td>NaN</td>\n",
       "      <td>NaN</td>\n",
       "      <td>NaN</td>\n",
       "    </tr>\n",
       "    <tr>\n",
       "      <th>1871</th>\n",
       "      <td>NaN</td>\n",
       "      <td>NaN</td>\n",
       "      <td>NaN</td>\n",
       "      <td>NaN</td>\n",
       "      <td>NaN</td>\n",
       "      <td>NaN</td>\n",
       "      <td>NaN</td>\n",
       "      <td>NaN</td>\n",
       "      <td>NaN</td>\n",
       "      <td>NaN</td>\n",
       "      <td>NaN</td>\n",
       "      <td>NaN</td>\n",
       "      <td>NaN</td>\n",
       "      <td>NaN</td>\n",
       "      <td>NaN</td>\n",
       "      <td>NaN</td>\n",
       "      <td>NaN</td>\n",
       "      <td>NaN</td>\n",
       "      <td>NaN</td>\n",
       "      <td>NaN</td>\n",
       "      <td>NaN</td>\n",
       "      <td>NaN</td>\n",
       "      <td>NaN</td>\n",
       "      <td>NaN</td>\n",
       "      <td>NaN</td>\n",
       "      <td>NaN</td>\n",
       "      <td>NaN</td>\n",
       "      <td>NaN</td>\n",
       "      <td>NaN</td>\n",
       "      <td>NaN</td>\n",
       "      <td>NaN</td>\n",
       "      <td>NaN</td>\n",
       "      <td>NaN</td>\n",
       "      <td>NaN</td>\n",
       "      <td>NaN</td>\n",
       "      <td>NaN</td>\n",
       "    </tr>\n",
       "    <tr>\n",
       "      <th>1872</th>\n",
       "      <td>NaN</td>\n",
       "      <td>NaN</td>\n",
       "      <td>NaN</td>\n",
       "      <td>NaN</td>\n",
       "      <td>NaN</td>\n",
       "      <td>NaN</td>\n",
       "      <td>NaN</td>\n",
       "      <td>NaN</td>\n",
       "      <td>NaN</td>\n",
       "      <td>NaN</td>\n",
       "      <td>NaN</td>\n",
       "      <td>NaN</td>\n",
       "      <td>NaN</td>\n",
       "      <td>NaN</td>\n",
       "      <td>NaN</td>\n",
       "      <td>NaN</td>\n",
       "      <td>NaN</td>\n",
       "      <td>NaN</td>\n",
       "      <td>NaN</td>\n",
       "      <td>NaN</td>\n",
       "      <td>NaN</td>\n",
       "      <td>NaN</td>\n",
       "      <td>NaN</td>\n",
       "      <td>NaN</td>\n",
       "      <td>NaN</td>\n",
       "      <td>NaN</td>\n",
       "      <td>NaN</td>\n",
       "      <td>NaN</td>\n",
       "      <td>NaN</td>\n",
       "      <td>NaN</td>\n",
       "      <td>NaN</td>\n",
       "      <td>NaN</td>\n",
       "      <td>NaN</td>\n",
       "      <td>NaN</td>\n",
       "      <td>NaN</td>\n",
       "      <td>NaN</td>\n",
       "    </tr>\n",
       "    <tr>\n",
       "      <th>1873</th>\n",
       "      <td>NaN</td>\n",
       "      <td>NaN</td>\n",
       "      <td>NaN</td>\n",
       "      <td>NaN</td>\n",
       "      <td>NaN</td>\n",
       "      <td>NaN</td>\n",
       "      <td>NaN</td>\n",
       "      <td>NaN</td>\n",
       "      <td>NaN</td>\n",
       "      <td>NaN</td>\n",
       "      <td>NaN</td>\n",
       "      <td>NaN</td>\n",
       "      <td>NaN</td>\n",
       "      <td>NaN</td>\n",
       "      <td>NaN</td>\n",
       "      <td>NaN</td>\n",
       "      <td>NaN</td>\n",
       "      <td>NaN</td>\n",
       "      <td>NaN</td>\n",
       "      <td>NaN</td>\n",
       "      <td>NaN</td>\n",
       "      <td>NaN</td>\n",
       "      <td>NaN</td>\n",
       "      <td>NaN</td>\n",
       "      <td>NaN</td>\n",
       "      <td>NaN</td>\n",
       "      <td>NaN</td>\n",
       "      <td>NaN</td>\n",
       "      <td>NaN</td>\n",
       "      <td>NaN</td>\n",
       "      <td>NaN</td>\n",
       "      <td>NaN</td>\n",
       "      <td>NaN</td>\n",
       "      <td>NaN</td>\n",
       "      <td>NaN</td>\n",
       "      <td>NaN</td>\n",
       "    </tr>\n",
       "    <tr>\n",
       "      <th>1874</th>\n",
       "      <td>NaN</td>\n",
       "      <td>NaN</td>\n",
       "      <td>NaN</td>\n",
       "      <td>NaN</td>\n",
       "      <td>NaN</td>\n",
       "      <td>NaN</td>\n",
       "      <td>NaN</td>\n",
       "      <td>NaN</td>\n",
       "      <td>NaN</td>\n",
       "      <td>NaN</td>\n",
       "      <td>NaN</td>\n",
       "      <td>NaN</td>\n",
       "      <td>NaN</td>\n",
       "      <td>NaN</td>\n",
       "      <td>NaN</td>\n",
       "      <td>NaN</td>\n",
       "      <td>NaN</td>\n",
       "      <td>NaN</td>\n",
       "      <td>NaN</td>\n",
       "      <td>NaN</td>\n",
       "      <td>NaN</td>\n",
       "      <td>NaN</td>\n",
       "      <td>NaN</td>\n",
       "      <td>NaN</td>\n",
       "      <td>NaN</td>\n",
       "      <td>NaN</td>\n",
       "      <td>NaN</td>\n",
       "      <td>NaN</td>\n",
       "      <td>NaN</td>\n",
       "      <td>NaN</td>\n",
       "      <td>NaN</td>\n",
       "      <td>NaN</td>\n",
       "      <td>NaN</td>\n",
       "      <td>NaN</td>\n",
       "      <td>NaN</td>\n",
       "      <td>NaN</td>\n",
       "    </tr>\n",
       "    <tr>\n",
       "      <th>...</th>\n",
       "      <td>...</td>\n",
       "      <td>...</td>\n",
       "      <td>...</td>\n",
       "      <td>...</td>\n",
       "      <td>...</td>\n",
       "      <td>...</td>\n",
       "      <td>...</td>\n",
       "      <td>...</td>\n",
       "      <td>...</td>\n",
       "      <td>...</td>\n",
       "      <td>...</td>\n",
       "      <td>...</td>\n",
       "      <td>...</td>\n",
       "      <td>...</td>\n",
       "      <td>...</td>\n",
       "      <td>...</td>\n",
       "      <td>...</td>\n",
       "      <td>...</td>\n",
       "      <td>...</td>\n",
       "      <td>...</td>\n",
       "      <td>...</td>\n",
       "      <td>...</td>\n",
       "      <td>...</td>\n",
       "      <td>...</td>\n",
       "      <td>...</td>\n",
       "      <td>...</td>\n",
       "      <td>...</td>\n",
       "      <td>...</td>\n",
       "      <td>...</td>\n",
       "      <td>...</td>\n",
       "      <td>...</td>\n",
       "      <td>...</td>\n",
       "      <td>...</td>\n",
       "      <td>...</td>\n",
       "      <td>...</td>\n",
       "      <td>...</td>\n",
       "    </tr>\n",
       "    <tr>\n",
       "      <th>32432</th>\n",
       "      <td>NaN</td>\n",
       "      <td>NaN</td>\n",
       "      <td>NaN</td>\n",
       "      <td>NaN</td>\n",
       "      <td>NaN</td>\n",
       "      <td>NaN</td>\n",
       "      <td>NaN</td>\n",
       "      <td>NaN</td>\n",
       "      <td>NaN</td>\n",
       "      <td>NaN</td>\n",
       "      <td>NaN</td>\n",
       "      <td>NaN</td>\n",
       "      <td>NaN</td>\n",
       "      <td>NaN</td>\n",
       "      <td>NaN</td>\n",
       "      <td>NaN</td>\n",
       "      <td>NaN</td>\n",
       "      <td>NaN</td>\n",
       "      <td>NaN</td>\n",
       "      <td>NaN</td>\n",
       "      <td>NaN</td>\n",
       "      <td>NaN</td>\n",
       "      <td>NaN</td>\n",
       "      <td>NaN</td>\n",
       "      <td>NaN</td>\n",
       "      <td>NaN</td>\n",
       "      <td>NaN</td>\n",
       "      <td>NaN</td>\n",
       "      <td>NaN</td>\n",
       "      <td>NaN</td>\n",
       "      <td>NaN</td>\n",
       "      <td>NaN</td>\n",
       "      <td>NaN</td>\n",
       "      <td>NaN</td>\n",
       "      <td>NaN</td>\n",
       "      <td>NaN</td>\n",
       "    </tr>\n",
       "    <tr>\n",
       "      <th>32433</th>\n",
       "      <td>NaN</td>\n",
       "      <td>NaN</td>\n",
       "      <td>NaN</td>\n",
       "      <td>NaN</td>\n",
       "      <td>NaN</td>\n",
       "      <td>NaN</td>\n",
       "      <td>NaN</td>\n",
       "      <td>NaN</td>\n",
       "      <td>NaN</td>\n",
       "      <td>NaN</td>\n",
       "      <td>NaN</td>\n",
       "      <td>NaN</td>\n",
       "      <td>NaN</td>\n",
       "      <td>NaN</td>\n",
       "      <td>NaN</td>\n",
       "      <td>NaN</td>\n",
       "      <td>NaN</td>\n",
       "      <td>NaN</td>\n",
       "      <td>NaN</td>\n",
       "      <td>NaN</td>\n",
       "      <td>NaN</td>\n",
       "      <td>NaN</td>\n",
       "      <td>NaN</td>\n",
       "      <td>NaN</td>\n",
       "      <td>NaN</td>\n",
       "      <td>NaN</td>\n",
       "      <td>NaN</td>\n",
       "      <td>NaN</td>\n",
       "      <td>NaN</td>\n",
       "      <td>NaN</td>\n",
       "      <td>NaN</td>\n",
       "      <td>NaN</td>\n",
       "      <td>NaN</td>\n",
       "      <td>NaN</td>\n",
       "      <td>NaN</td>\n",
       "      <td>NaN</td>\n",
       "    </tr>\n",
       "    <tr>\n",
       "      <th>32434</th>\n",
       "      <td>NaN</td>\n",
       "      <td>NaN</td>\n",
       "      <td>NaN</td>\n",
       "      <td>NaN</td>\n",
       "      <td>NaN</td>\n",
       "      <td>NaN</td>\n",
       "      <td>NaN</td>\n",
       "      <td>NaN</td>\n",
       "      <td>NaN</td>\n",
       "      <td>NaN</td>\n",
       "      <td>NaN</td>\n",
       "      <td>NaN</td>\n",
       "      <td>NaN</td>\n",
       "      <td>NaN</td>\n",
       "      <td>NaN</td>\n",
       "      <td>NaN</td>\n",
       "      <td>NaN</td>\n",
       "      <td>NaN</td>\n",
       "      <td>NaN</td>\n",
       "      <td>NaN</td>\n",
       "      <td>NaN</td>\n",
       "      <td>NaN</td>\n",
       "      <td>NaN</td>\n",
       "      <td>NaN</td>\n",
       "      <td>NaN</td>\n",
       "      <td>NaN</td>\n",
       "      <td>NaN</td>\n",
       "      <td>NaN</td>\n",
       "      <td>NaN</td>\n",
       "      <td>NaN</td>\n",
       "      <td>NaN</td>\n",
       "      <td>NaN</td>\n",
       "      <td>NaN</td>\n",
       "      <td>NaN</td>\n",
       "      <td>NaN</td>\n",
       "      <td>NaN</td>\n",
       "    </tr>\n",
       "    <tr>\n",
       "      <th>32435</th>\n",
       "      <td>NaN</td>\n",
       "      <td>NaN</td>\n",
       "      <td>NaN</td>\n",
       "      <td>NaN</td>\n",
       "      <td>NaN</td>\n",
       "      <td>NaN</td>\n",
       "      <td>NaN</td>\n",
       "      <td>NaN</td>\n",
       "      <td>NaN</td>\n",
       "      <td>NaN</td>\n",
       "      <td>NaN</td>\n",
       "      <td>NaN</td>\n",
       "      <td>NaN</td>\n",
       "      <td>NaN</td>\n",
       "      <td>NaN</td>\n",
       "      <td>NaN</td>\n",
       "      <td>NaN</td>\n",
       "      <td>NaN</td>\n",
       "      <td>NaN</td>\n",
       "      <td>NaN</td>\n",
       "      <td>NaN</td>\n",
       "      <td>NaN</td>\n",
       "      <td>NaN</td>\n",
       "      <td>NaN</td>\n",
       "      <td>NaN</td>\n",
       "      <td>NaN</td>\n",
       "      <td>NaN</td>\n",
       "      <td>NaN</td>\n",
       "      <td>NaN</td>\n",
       "      <td>NaN</td>\n",
       "      <td>NaN</td>\n",
       "      <td>NaN</td>\n",
       "      <td>NaN</td>\n",
       "      <td>NaN</td>\n",
       "      <td>NaN</td>\n",
       "      <td>NaN</td>\n",
       "    </tr>\n",
       "    <tr>\n",
       "      <th>32436</th>\n",
       "      <td>NaN</td>\n",
       "      <td>NaN</td>\n",
       "      <td>NaN</td>\n",
       "      <td>NaN</td>\n",
       "      <td>NaN</td>\n",
       "      <td>NaN</td>\n",
       "      <td>NaN</td>\n",
       "      <td>NaN</td>\n",
       "      <td>NaN</td>\n",
       "      <td>NaN</td>\n",
       "      <td>NaN</td>\n",
       "      <td>NaN</td>\n",
       "      <td>NaN</td>\n",
       "      <td>NaN</td>\n",
       "      <td>NaN</td>\n",
       "      <td>NaN</td>\n",
       "      <td>NaN</td>\n",
       "      <td>NaN</td>\n",
       "      <td>NaN</td>\n",
       "      <td>NaN</td>\n",
       "      <td>NaN</td>\n",
       "      <td>NaN</td>\n",
       "      <td>NaN</td>\n",
       "      <td>NaN</td>\n",
       "      <td>NaN</td>\n",
       "      <td>NaN</td>\n",
       "      <td>NaN</td>\n",
       "      <td>NaN</td>\n",
       "      <td>NaN</td>\n",
       "      <td>NaN</td>\n",
       "      <td>NaN</td>\n",
       "      <td>NaN</td>\n",
       "      <td>NaN</td>\n",
       "      <td>NaN</td>\n",
       "      <td>NaN</td>\n",
       "      <td>NaN</td>\n",
       "    </tr>\n",
       "  </tbody>\n",
       "</table>\n",
       "<p>3546 rows × 36 columns</p>\n",
       "</div>"
      ],
      "text/plain": [
       "      CODGEO LIBGEO  tx_ft tx_ft_quartile  POP18 POP18_quartile  SUPERF  \\\n",
       "1870     NaN    NaN    NaN            NaN    NaN            NaN     NaN   \n",
       "1871     NaN    NaN    NaN            NaN    NaN            NaN     NaN   \n",
       "1872     NaN    NaN    NaN            NaN    NaN            NaN     NaN   \n",
       "1873     NaN    NaN    NaN            NaN    NaN            NaN     NaN   \n",
       "1874     NaN    NaN    NaN            NaN    NaN            NaN     NaN   \n",
       "...      ...    ...    ...            ...    ...            ...     ...   \n",
       "32432    NaN    NaN    NaN            NaN    NaN            NaN     NaN   \n",
       "32433    NaN    NaN    NaN            NaN    NaN            NaN     NaN   \n",
       "32434    NaN    NaN    NaN            NaN    NaN            NaN     NaN   \n",
       "32435    NaN    NaN    NaN            NaN    NaN            NaN     NaN   \n",
       "32436    NaN    NaN    NaN            NaN    NaN            NaN     NaN   \n",
       "\n",
       "      SUPERF_quartile  Lits marchands 2021 inc. PtoP)  \\\n",
       "1870              NaN                             NaN   \n",
       "1871              NaN                             NaN   \n",
       "1872              NaN                             NaN   \n",
       "1873              NaN                             NaN   \n",
       "1874              NaN                             NaN   \n",
       "...               ...                             ...   \n",
       "32432             NaN                             NaN   \n",
       "32433             NaN                             NaN   \n",
       "32434             NaN                             NaN   \n",
       "32435             NaN                             NaN   \n",
       "32436             NaN                             NaN   \n",
       "\n",
       "      Lits marchands 2021 inc. PtoP)_quartile  \\\n",
       "1870                                      NaN   \n",
       "1871                                      NaN   \n",
       "1872                                      NaN   \n",
       "1873                                      NaN   \n",
       "1874                                      NaN   \n",
       "...                                       ...   \n",
       "32432                                     NaN   \n",
       "32433                                     NaN   \n",
       "32434                                     NaN   \n",
       "32435                                     NaN   \n",
       "32436                                     NaN   \n",
       "\n",
       "       Lits marchands 2018 (hors PtoP)  \\\n",
       "1870                               NaN   \n",
       "1871                               NaN   \n",
       "1872                               NaN   \n",
       "1873                               NaN   \n",
       "1874                               NaN   \n",
       "...                                ...   \n",
       "32432                              NaN   \n",
       "32433                              NaN   \n",
       "32434                              NaN   \n",
       "32435                              NaN   \n",
       "32436                              NaN   \n",
       "\n",
       "      Lits marchands 2018 (hors PtoP)_quartile  TCAM TCAM_quartile  P18_RSP  \\\n",
       "1870                                       NaN   NaN           NaN      NaN   \n",
       "1871                                       NaN   NaN           NaN      NaN   \n",
       "1872                                       NaN   NaN           NaN      NaN   \n",
       "1873                                       NaN   NaN           NaN      NaN   \n",
       "1874                                       NaN   NaN           NaN      NaN   \n",
       "...                                        ...   ...           ...      ...   \n",
       "32432                                      NaN   NaN           NaN      NaN   \n",
       "32433                                      NaN   NaN           NaN      NaN   \n",
       "32434                                      NaN   NaN           NaN      NaN   \n",
       "32435                                      NaN   NaN           NaN      NaN   \n",
       "32436                                      NaN   NaN           NaN      NaN   \n",
       "\n",
       "      P18_RSP_quartile  P18_LITRS P18_LITRS_quartile ind_vieillist  \\\n",
       "1870               NaN        NaN                NaN           NaN   \n",
       "1871               NaN        NaN                NaN           NaN   \n",
       "1872               NaN        NaN                NaN           NaN   \n",
       "1873               NaN        NaN                NaN           NaN   \n",
       "1874               NaN        NaN                NaN           NaN   \n",
       "...                ...        ...                ...           ...   \n",
       "32432              NaN        NaN                NaN           NaN   \n",
       "32433              NaN        NaN                NaN           NaN   \n",
       "32434              NaN        NaN                NaN           NaN   \n",
       "32435              NaN        NaN                NaN           NaN   \n",
       "32436              NaN        NaN                NaN           NaN   \n",
       "\n",
       "      ind_vieillist_quartile  surf_artif surf_artif_quartile  surf_protege  \\\n",
       "1870                     NaN         NaN                 NaN           NaN   \n",
       "1871                     NaN         NaN                 NaN           NaN   \n",
       "1872                     NaN         NaN                 NaN           NaN   \n",
       "1873                     NaN         NaN                 NaN           NaN   \n",
       "1874                     NaN         NaN                 NaN           NaN   \n",
       "...                      ...         ...                 ...           ...   \n",
       "32432                    NaN         NaN                 NaN           NaN   \n",
       "32433                    NaN         NaN                 NaN           NaN   \n",
       "32434                    NaN         NaN                 NaN           NaN   \n",
       "32435                    NaN         NaN                 NaN           NaN   \n",
       "32436                    NaN         NaN                 NaN           NaN   \n",
       "\n",
       "      surf_protege_quartile  evol_lit_marchant evol_lit_marchant_quartile  \\\n",
       "1870                    NaN                NaN                        NaN   \n",
       "1871                    NaN                NaN                        NaN   \n",
       "1872                    NaN                NaN                        NaN   \n",
       "1873                    NaN                NaN                        NaN   \n",
       "1874                    NaN                NaN                        NaN   \n",
       "...                     ...                ...                        ...   \n",
       "32432                   NaN                NaN                        NaN   \n",
       "32433                   NaN                NaN                        NaN   \n",
       "32434                   NaN                NaN                        NaN   \n",
       "32435                   NaN                NaN                        NaN   \n",
       "32436                   NaN                NaN                        NaN   \n",
       "\n",
       "       evol_rs evol_rs_quartile  denseite_lit_t denseite_lit_t_quartile  \\\n",
       "1870       NaN              NaN             NaN                     NaN   \n",
       "1871       NaN              NaN             NaN                     NaN   \n",
       "1872       NaN              NaN             NaN                     NaN   \n",
       "1873       NaN              NaN             NaN                     NaN   \n",
       "1874       NaN              NaN             NaN                     NaN   \n",
       "...        ...              ...             ...                     ...   \n",
       "32432      NaN              NaN             NaN                     NaN   \n",
       "32433      NaN              NaN             NaN                     NaN   \n",
       "32434      NaN              NaN             NaN                     NaN   \n",
       "32435      NaN              NaN             NaN                     NaN   \n",
       "32436      NaN              NaN             NaN                     NaN   \n",
       "\n",
       "       evol_capa_lit evol_capa_lit_quartile  PrixMoyen_M2  \\\n",
       "1870             NaN                    NaN           NaN   \n",
       "1871             NaN                    NaN           NaN   \n",
       "1872             NaN                    NaN           NaN   \n",
       "1873             NaN                    NaN           NaN   \n",
       "1874             NaN                    NaN           NaN   \n",
       "...              ...                    ...           ...   \n",
       "32432            NaN                    NaN           NaN   \n",
       "32433            NaN                    NaN           NaN   \n",
       "32434            NaN                    NaN           NaN   \n",
       "32435            NaN                    NaN           NaN   \n",
       "32436            NaN                    NaN           NaN   \n",
       "\n",
       "      PrixMoyen_M2_quartile  loyer_apparts loyer_apparts_quartile  \n",
       "1870                    NaN            NaN                    NaN  \n",
       "1871                    NaN            NaN                    NaN  \n",
       "1872                    NaN            NaN                    NaN  \n",
       "1873                    NaN            NaN                    NaN  \n",
       "1874                    NaN            NaN                    NaN  \n",
       "...                     ...            ...                    ...  \n",
       "32432                   NaN            NaN                    NaN  \n",
       "32433                   NaN            NaN                    NaN  \n",
       "32434                   NaN            NaN                    NaN  \n",
       "32435                   NaN            NaN                    NaN  \n",
       "32436                   NaN            NaN                    NaN  \n",
       "\n",
       "[3546 rows x 36 columns]"
      ]
     },
     "execution_count": 203,
     "metadata": {},
     "output_type": "execute_result"
    }
   ],
   "source": [
    "tab10[tab10.isna()]"
   ]
  },
  {
   "cell_type": "markdown",
   "id": "0f48cfd5",
   "metadata": {},
   "source": [
    "## Clustering"
   ]
  },
  {
   "cell_type": "code",
   "execution_count": 191,
   "id": "3adbfa03",
   "metadata": {
    "ExecuteTime": {
     "end_time": "2021-11-29T16:35:22.092061Z",
     "start_time": "2021-11-29T16:35:22.060834Z"
    },
    "scrolled": true
   },
   "outputs": [],
   "source": [
    "#map_df = tab[indicateurs_map + ['CODGEO', 'LIBGEO']]\n",
    "\n",
    "ind = ['tx_ft', 'POP18','SUPERF','Lits marchands 2021 inc. PtoP)','Lits marchands 2018 (hors PtoP)','TCAM',\n",
    "       'P18_RSP','P18_LITRS','ind_vieillist','surf_artif','surf_protege','evol_lit_marchant','evol_rs',\n",
    "       'denseite_lit_t','evol_capa_lit','PrixMoyen_M2','loyer_apparts']"
   ]
  },
  {
   "cell_type": "code",
   "execution_count": 190,
   "id": "e38fdfd3",
   "metadata": {},
   "outputs": [],
   "source": [
    "#tab[ind]"
   ]
  },
  {
   "cell_type": "code",
   "execution_count": 192,
   "id": "d8263087",
   "metadata": {},
   "outputs": [],
   "source": [
    "from sklearn.preprocessing import MinMaxScaler\n",
    "\n",
    "dataset = tab[ind].copy()\n",
    "object= MinMaxScaler()\n",
    "    \n",
    "# standardization \n",
    "data_scaled = object.fit_transform(dataset) \n",
    " \n",
    "data_scaled= pd.DataFrame(data_scaled,columns=ind)"
   ]
  },
  {
   "cell_type": "code",
   "execution_count": 194,
   "id": "9c3703d2",
   "metadata": {},
   "outputs": [],
   "source": [
    "#data_scaled"
   ]
  },
  {
   "cell_type": "code",
   "execution_count": 195,
   "id": "a44f9b67",
   "metadata": {},
   "outputs": [],
   "source": [
    "# Function Elbow viz\n",
    "\n",
    "def apply_kmeans_elbow(X, kmin = 1, kmax=10):\n",
    "    kmeans_per_k = [KMeans(n_clusters=k, random_state=42).fit(X)\n",
    "                for k in range(kmin, kmax)]\n",
    "    inertias = [model.inertia_ for model in kmeans_per_k]\n",
    "    plt.figure(figsize=(8, 3.5))\n",
    "    plt.plot(range(kmin, kmax), inertias, \"bo-\")\n",
    "    plt.xlabel(\"$k$\", fontsize=14)\n",
    "    plt.ylabel(\"Inertia\", fontsize=14)\n",
    "    # plt.axis([1, 8.5, 0, 1300])\n",
    "    # save_fig(\"inertia_vs_k_diagram\")\n",
    "    plt.show()\n",
    "\n",
    "\n",
    "# Dendrogram function\n",
    "\n",
    "def train_plot_dendrogram(X, **kwargs):\n",
    "    # Create linkage matrix and then plot the dendrogram\n",
    "    model = AgglomerativeClustering(n_clusters=None ,distance_threshold=0, affinity='euclidean', linkage='ward', compute_distances = True)\n",
    "    model.fit(X)\n",
    "    # create the counts of samples under each node\n",
    "    counts = np.zeros(model.children_.shape[0])\n",
    "    n_samples = len(model.labels_)\n",
    "    for i, merge in enumerate(model.children_):\n",
    "        current_count = 0\n",
    "        for child_idx in merge:\n",
    "            if child_idx < n_samples:\n",
    "                current_count += 1  # leaf node\n",
    "            else:\n",
    "                current_count += counts[child_idx - n_samples]\n",
    "        counts[i] = current_count\n",
    "\n",
    "    linkage_matrix = np.column_stack(\n",
    "        [model.children_, model.distances_, counts]\n",
    "    ).astype(float)\n",
    "\n",
    "    # Plot the corresponding dendrogram\n",
    "    dendrogram(linkage_matrix, **kwargs)\n",
    "    \n",
    "    \n",
    "def highlight_max(s, props=''):\n",
    "    return np.where(s == np.nanmax(s.values), props, '')\n"
   ]
  },
  {
   "cell_type": "code",
   "execution_count": 196,
   "id": "c723981a",
   "metadata": {},
   "outputs": [],
   "source": [
    "X = data_scaled"
   ]
  },
  {
   "cell_type": "code",
   "execution_count": 197,
   "id": "8787880b",
   "metadata": {},
   "outputs": [
    {
     "ename": "ValueError",
     "evalue": "Input contains NaN, infinity or a value too large for dtype('float64').",
     "output_type": "error",
     "traceback": [
      "\u001b[1;31m---------------------------------------------------------------------------\u001b[0m",
      "\u001b[1;31mValueError\u001b[0m                                Traceback (most recent call last)",
      "\u001b[1;32m~\\AppData\\Local\\Temp/ipykernel_18092/666364067.py\u001b[0m in \u001b[0;36m<module>\u001b[1;34m\u001b[0m\n\u001b[1;32m----> 1\u001b[1;33m \u001b[0mapply_kmeans_elbow\u001b[0m\u001b[1;33m(\u001b[0m\u001b[0mX\u001b[0m\u001b[1;33m)\u001b[0m\u001b[1;33m\u001b[0m\u001b[1;33m\u001b[0m\u001b[0m\n\u001b[0m",
      "\u001b[1;32m~\\AppData\\Local\\Temp/ipykernel_18092/2141314980.py\u001b[0m in \u001b[0;36mapply_kmeans_elbow\u001b[1;34m(X, kmin, kmax)\u001b[0m\n\u001b[0;32m      2\u001b[0m \u001b[1;33m\u001b[0m\u001b[0m\n\u001b[0;32m      3\u001b[0m \u001b[1;32mdef\u001b[0m \u001b[0mapply_kmeans_elbow\u001b[0m\u001b[1;33m(\u001b[0m\u001b[0mX\u001b[0m\u001b[1;33m,\u001b[0m \u001b[0mkmin\u001b[0m \u001b[1;33m=\u001b[0m \u001b[1;36m1\u001b[0m\u001b[1;33m,\u001b[0m \u001b[0mkmax\u001b[0m\u001b[1;33m=\u001b[0m\u001b[1;36m10\u001b[0m\u001b[1;33m)\u001b[0m\u001b[1;33m:\u001b[0m\u001b[1;33m\u001b[0m\u001b[1;33m\u001b[0m\u001b[0m\n\u001b[1;32m----> 4\u001b[1;33m     kmeans_per_k = [KMeans(n_clusters=k, random_state=42).fit(X)\n\u001b[0m\u001b[0;32m      5\u001b[0m                 for k in range(kmin, kmax)]\n\u001b[0;32m      6\u001b[0m     \u001b[0minertias\u001b[0m \u001b[1;33m=\u001b[0m \u001b[1;33m[\u001b[0m\u001b[0mmodel\u001b[0m\u001b[1;33m.\u001b[0m\u001b[0minertia_\u001b[0m \u001b[1;32mfor\u001b[0m \u001b[0mmodel\u001b[0m \u001b[1;32min\u001b[0m \u001b[0mkmeans_per_k\u001b[0m\u001b[1;33m]\u001b[0m\u001b[1;33m\u001b[0m\u001b[1;33m\u001b[0m\u001b[0m\n",
      "\u001b[1;32m~\\AppData\\Local\\Temp/ipykernel_18092/2141314980.py\u001b[0m in \u001b[0;36m<listcomp>\u001b[1;34m(.0)\u001b[0m\n\u001b[0;32m      2\u001b[0m \u001b[1;33m\u001b[0m\u001b[0m\n\u001b[0;32m      3\u001b[0m \u001b[1;32mdef\u001b[0m \u001b[0mapply_kmeans_elbow\u001b[0m\u001b[1;33m(\u001b[0m\u001b[0mX\u001b[0m\u001b[1;33m,\u001b[0m \u001b[0mkmin\u001b[0m \u001b[1;33m=\u001b[0m \u001b[1;36m1\u001b[0m\u001b[1;33m,\u001b[0m \u001b[0mkmax\u001b[0m\u001b[1;33m=\u001b[0m\u001b[1;36m10\u001b[0m\u001b[1;33m)\u001b[0m\u001b[1;33m:\u001b[0m\u001b[1;33m\u001b[0m\u001b[1;33m\u001b[0m\u001b[0m\n\u001b[1;32m----> 4\u001b[1;33m     kmeans_per_k = [KMeans(n_clusters=k, random_state=42).fit(X)\n\u001b[0m\u001b[0;32m      5\u001b[0m                 for k in range(kmin, kmax)]\n\u001b[0;32m      6\u001b[0m     \u001b[0minertias\u001b[0m \u001b[1;33m=\u001b[0m \u001b[1;33m[\u001b[0m\u001b[0mmodel\u001b[0m\u001b[1;33m.\u001b[0m\u001b[0minertia_\u001b[0m \u001b[1;32mfor\u001b[0m \u001b[0mmodel\u001b[0m \u001b[1;32min\u001b[0m \u001b[0mkmeans_per_k\u001b[0m\u001b[1;33m]\u001b[0m\u001b[1;33m\u001b[0m\u001b[1;33m\u001b[0m\u001b[0m\n",
      "\u001b[1;32m~\\anaconda3\\envs\\geo_env\\lib\\site-packages\\sklearn\\cluster\\_kmeans.py\u001b[0m in \u001b[0;36mfit\u001b[1;34m(self, X, y, sample_weight)\u001b[0m\n\u001b[0;32m    977\u001b[0m             \u001b[0mFitted\u001b[0m \u001b[0mestimator\u001b[0m\u001b[1;33m.\u001b[0m\u001b[1;33m\u001b[0m\u001b[1;33m\u001b[0m\u001b[0m\n\u001b[0;32m    978\u001b[0m         \"\"\"\n\u001b[1;32m--> 979\u001b[1;33m         X = self._validate_data(X, accept_sparse='csr',\n\u001b[0m\u001b[0;32m    980\u001b[0m                                 \u001b[0mdtype\u001b[0m\u001b[1;33m=\u001b[0m\u001b[1;33m[\u001b[0m\u001b[0mnp\u001b[0m\u001b[1;33m.\u001b[0m\u001b[0mfloat64\u001b[0m\u001b[1;33m,\u001b[0m \u001b[0mnp\u001b[0m\u001b[1;33m.\u001b[0m\u001b[0mfloat32\u001b[0m\u001b[1;33m]\u001b[0m\u001b[1;33m,\u001b[0m\u001b[1;33m\u001b[0m\u001b[1;33m\u001b[0m\u001b[0m\n\u001b[0;32m    981\u001b[0m                                 \u001b[0morder\u001b[0m\u001b[1;33m=\u001b[0m\u001b[1;34m'C'\u001b[0m\u001b[1;33m,\u001b[0m \u001b[0mcopy\u001b[0m\u001b[1;33m=\u001b[0m\u001b[0mself\u001b[0m\u001b[1;33m.\u001b[0m\u001b[0mcopy_x\u001b[0m\u001b[1;33m,\u001b[0m\u001b[1;33m\u001b[0m\u001b[1;33m\u001b[0m\u001b[0m\n",
      "\u001b[1;32m~\\anaconda3\\envs\\geo_env\\lib\\site-packages\\sklearn\\base.py\u001b[0m in \u001b[0;36m_validate_data\u001b[1;34m(self, X, y, reset, validate_separately, **check_params)\u001b[0m\n\u001b[0;32m    419\u001b[0m             \u001b[0mout\u001b[0m \u001b[1;33m=\u001b[0m \u001b[0mX\u001b[0m\u001b[1;33m\u001b[0m\u001b[1;33m\u001b[0m\u001b[0m\n\u001b[0;32m    420\u001b[0m         \u001b[1;32melif\u001b[0m \u001b[0misinstance\u001b[0m\u001b[1;33m(\u001b[0m\u001b[0my\u001b[0m\u001b[1;33m,\u001b[0m \u001b[0mstr\u001b[0m\u001b[1;33m)\u001b[0m \u001b[1;32mand\u001b[0m \u001b[0my\u001b[0m \u001b[1;33m==\u001b[0m \u001b[1;34m'no_validation'\u001b[0m\u001b[1;33m:\u001b[0m\u001b[1;33m\u001b[0m\u001b[1;33m\u001b[0m\u001b[0m\n\u001b[1;32m--> 421\u001b[1;33m             \u001b[0mX\u001b[0m \u001b[1;33m=\u001b[0m \u001b[0mcheck_array\u001b[0m\u001b[1;33m(\u001b[0m\u001b[0mX\u001b[0m\u001b[1;33m,\u001b[0m \u001b[1;33m**\u001b[0m\u001b[0mcheck_params\u001b[0m\u001b[1;33m)\u001b[0m\u001b[1;33m\u001b[0m\u001b[1;33m\u001b[0m\u001b[0m\n\u001b[0m\u001b[0;32m    422\u001b[0m             \u001b[0mout\u001b[0m \u001b[1;33m=\u001b[0m \u001b[0mX\u001b[0m\u001b[1;33m\u001b[0m\u001b[1;33m\u001b[0m\u001b[0m\n\u001b[0;32m    423\u001b[0m         \u001b[1;32melse\u001b[0m\u001b[1;33m:\u001b[0m\u001b[1;33m\u001b[0m\u001b[1;33m\u001b[0m\u001b[0m\n",
      "\u001b[1;32m~\\anaconda3\\envs\\geo_env\\lib\\site-packages\\sklearn\\utils\\validation.py\u001b[0m in \u001b[0;36minner_f\u001b[1;34m(*args, **kwargs)\u001b[0m\n\u001b[0;32m     61\u001b[0m             \u001b[0mextra_args\u001b[0m \u001b[1;33m=\u001b[0m \u001b[0mlen\u001b[0m\u001b[1;33m(\u001b[0m\u001b[0margs\u001b[0m\u001b[1;33m)\u001b[0m \u001b[1;33m-\u001b[0m \u001b[0mlen\u001b[0m\u001b[1;33m(\u001b[0m\u001b[0mall_args\u001b[0m\u001b[1;33m)\u001b[0m\u001b[1;33m\u001b[0m\u001b[1;33m\u001b[0m\u001b[0m\n\u001b[0;32m     62\u001b[0m             \u001b[1;32mif\u001b[0m \u001b[0mextra_args\u001b[0m \u001b[1;33m<=\u001b[0m \u001b[1;36m0\u001b[0m\u001b[1;33m:\u001b[0m\u001b[1;33m\u001b[0m\u001b[1;33m\u001b[0m\u001b[0m\n\u001b[1;32m---> 63\u001b[1;33m                 \u001b[1;32mreturn\u001b[0m \u001b[0mf\u001b[0m\u001b[1;33m(\u001b[0m\u001b[1;33m*\u001b[0m\u001b[0margs\u001b[0m\u001b[1;33m,\u001b[0m \u001b[1;33m**\u001b[0m\u001b[0mkwargs\u001b[0m\u001b[1;33m)\u001b[0m\u001b[1;33m\u001b[0m\u001b[1;33m\u001b[0m\u001b[0m\n\u001b[0m\u001b[0;32m     64\u001b[0m \u001b[1;33m\u001b[0m\u001b[0m\n\u001b[0;32m     65\u001b[0m             \u001b[1;31m# extra_args > 0\u001b[0m\u001b[1;33m\u001b[0m\u001b[1;33m\u001b[0m\u001b[1;33m\u001b[0m\u001b[0m\n",
      "\u001b[1;32m~\\anaconda3\\envs\\geo_env\\lib\\site-packages\\sklearn\\utils\\validation.py\u001b[0m in \u001b[0;36mcheck_array\u001b[1;34m(array, accept_sparse, accept_large_sparse, dtype, order, copy, force_all_finite, ensure_2d, allow_nd, ensure_min_samples, ensure_min_features, estimator)\u001b[0m\n\u001b[0;32m    718\u001b[0m \u001b[1;33m\u001b[0m\u001b[0m\n\u001b[0;32m    719\u001b[0m         \u001b[1;32mif\u001b[0m \u001b[0mforce_all_finite\u001b[0m\u001b[1;33m:\u001b[0m\u001b[1;33m\u001b[0m\u001b[1;33m\u001b[0m\u001b[0m\n\u001b[1;32m--> 720\u001b[1;33m             _assert_all_finite(array,\n\u001b[0m\u001b[0;32m    721\u001b[0m                                allow_nan=force_all_finite == 'allow-nan')\n\u001b[0;32m    722\u001b[0m \u001b[1;33m\u001b[0m\u001b[0m\n",
      "\u001b[1;32m~\\anaconda3\\envs\\geo_env\\lib\\site-packages\\sklearn\\utils\\validation.py\u001b[0m in \u001b[0;36m_assert_all_finite\u001b[1;34m(X, allow_nan, msg_dtype)\u001b[0m\n\u001b[0;32m    101\u001b[0m                 not allow_nan and not np.isfinite(X).all()):\n\u001b[0;32m    102\u001b[0m             \u001b[0mtype_err\u001b[0m \u001b[1;33m=\u001b[0m \u001b[1;34m'infinity'\u001b[0m \u001b[1;32mif\u001b[0m \u001b[0mallow_nan\u001b[0m \u001b[1;32melse\u001b[0m \u001b[1;34m'NaN, infinity'\u001b[0m\u001b[1;33m\u001b[0m\u001b[1;33m\u001b[0m\u001b[0m\n\u001b[1;32m--> 103\u001b[1;33m             raise ValueError(\n\u001b[0m\u001b[0;32m    104\u001b[0m                     \u001b[0mmsg_err\u001b[0m\u001b[1;33m.\u001b[0m\u001b[0mformat\u001b[0m\u001b[1;33m\u001b[0m\u001b[1;33m\u001b[0m\u001b[0m\n\u001b[0;32m    105\u001b[0m                     (type_err,\n",
      "\u001b[1;31mValueError\u001b[0m: Input contains NaN, infinity or a value too large for dtype('float64')."
     ]
    }
   ],
   "source": [
    "apply_kmeans_elbow(X)"
   ]
  },
  {
   "cell_type": "code",
   "execution_count": null,
   "id": "5016f870",
   "metadata": {},
   "outputs": [],
   "source": [
    "train_plot_dendrogram(X)"
   ]
  },
  {
   "cell_type": "code",
   "execution_count": null,
   "id": "3194871f",
   "metadata": {},
   "outputs": [],
   "source": [
    "k=\n",
    "ac = AgglomerativeClustering(n_clusters=k, affinity='euclidean', linkage='ward', compute_distances = True)\n",
    "y = ac.fit_predict(X)"
   ]
  },
  {
   "cell_type": "code",
   "execution_count": null,
   "id": "2a6de860",
   "metadata": {},
   "outputs": [],
   "source": []
  },
  {
   "cell_type": "code",
   "execution_count": null,
   "id": "3aeb2475",
   "metadata": {},
   "outputs": [],
   "source": []
  }
 ],
 "metadata": {
  "kernelspec": {
   "display_name": "Python 3 (ipykernel)",
   "language": "python",
   "name": "python3"
  },
  "language_info": {
   "codemirror_mode": {
    "name": "ipython",
    "version": 3
   },
   "file_extension": ".py",
   "mimetype": "text/x-python",
   "name": "python",
   "nbconvert_exporter": "python",
   "pygments_lexer": "ipython3",
   "version": "3.9.6"
  }
 },
 "nbformat": 4,
 "nbformat_minor": 5
}
