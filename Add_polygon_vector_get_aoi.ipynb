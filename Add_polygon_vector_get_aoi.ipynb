{
 "cells": [
  {
   "cell_type": "code",
   "execution_count": 28,
   "id": "7310334c",
   "metadata": {},
   "outputs": [
    {
     "data": {
      "text/html": [
       "<script>jQuery(function() {if (jQuery(\"body.notebook_app\").length == 0) { jQuery(\".input_area\").toggle(); jQuery(\".prompt\").toggle();}});</script>"
      ]
     },
     "metadata": {},
     "output_type": "display_data"
    },
    {
     "data": {
      "text/html": [
       "<button onclick=\"jQuery('.input_area').toggle(); jQuery('.prompt').toggle();\">Toggle code</button>"
      ]
     },
     "metadata": {},
     "output_type": "display_data"
    }
   ],
   "source": [
    "import ipywidgets as widgets\n",
    "from IPython.display import display, HTML\n",
    "\n",
    "javascript_functions = {False: \"hide()\", True: \"show()\"}\n",
    "button_descriptions  = {False: \"Show code\", True: \"Hide code\"}\n",
    "\n",
    "\n",
    "def toggle_code(state):\n",
    "\n",
    "    \"\"\"\n",
    "    Toggles the JavaScript show()/hide() function on the div.input element.\n",
    "    \"\"\"\n",
    "\n",
    "    output_string = \"<script>$(\\\"div.input\\\").{}</script>\"\n",
    "    output_args   = (javascript_functions[state],)\n",
    "    output        = output_string.format(*output_args)\n",
    "\n",
    "    display(HTML(output))\n",
    "\n",
    "\n",
    "def button_action(value):\n",
    "\n",
    "    \"\"\"\n",
    "    Calls the toggle_code function and updates the button description.\n",
    "    \"\"\"\n",
    "    state = value.new\n",
    "\n",
    "    toggle_code(state)\n",
    "\n",
    "    value.owner.description = button_descriptions[state]\n",
    "\n",
    "\n",
    "state = False\n",
    "toggle_code(state)\n",
    "\n",
    "button = widgets.ToggleButton(state, description = button_descriptions[state])\n",
    "button.observe(button_action, \"value\")\n",
    "\n",
    "display(button)"
   ]
  },
  {
   "cell_type": "code",
   "execution_count": null,
   "id": "ae05c0d4",
   "metadata": {},
   "outputs": [],
   "source": [
    "import os\n",
    "import ee\n",
    "import geemap\n",
    "import ipywidgets as widgets\n",
    "import ipyleaflet\n",
    "from ipyleaflet import WidgetControl\n",
    "import geopandas as gpd\n",
    "import geemap.chart as chart\n",
    "import json\n",
    "import pandas as pd\n",
    "import seaborn as sns\n",
    "import matplotlib.pyplot as plt\n",
    "#import ipympl\n",
    "#import warnings\n",
    "#warnings.filterwarnings(\"ignore\")\n",
    "#import geemap.foliumap as geemap"
   ]
  },
  {
   "cell_type": "code",
   "execution_count": 2,
   "id": "e01fd514",
   "metadata": {},
   "outputs": [],
   "source": [
    "from ipyleaflet import (\n",
    "Map, basemaps, basemap_to_tiles,\n",
    "WMSLayer, LayersControl\n",
    ")"
   ]
  },
  {
   "cell_type": "code",
   "execution_count": 3,
   "id": "d0a1bd43",
   "metadata": {},
   "outputs": [],
   "source": [
    "Map = geemap.Map(center=(40, -100), zoom=4)\n",
    "#Map"
   ]
  },
  {
   "cell_type": "code",
   "execution_count": 4,
   "id": "0384e092",
   "metadata": {},
   "outputs": [],
   "source": [
    "# Add Earth Engine dataset\n",
    "#dem = ee.Image('USGS/SRTMGL1_003')\n",
    "\n",
    "# VIIRS Night time light example\n",
    "#viirs2018= ee.ImageCollection(\"NOAA/VIIRS/DNB/MONTHLY_V1/VCMSLCFG\").filterDate(\"2018-01-01\",\"2018-12-31\").select('avg_rad').median().\n",
    "#poi = ee.Geometry.Point(127.072483, 37.515817).buffer(500)\n",
    "viirs_map = ee.ImageCollection(\"NOAA/VIIRS/DNB/MONTHLY_V1/VCMSLCFG\").filterDate('2014-01-01','2020-12-31').select('avg_rad')\n",
    "\n",
    "viirs = ee.ImageCollection(\"NOAA/VIIRS/DNB/MONTHLY_V1/VCMSLCFG\").filterDate('2014-01-01','2020-12-31')\n",
    "\n",
    "Map.add_basemap('SATELLITE')\n",
    "\n",
    "# Set visualization parameters.\n",
    "vis_params = {\n",
    "  'min': 0,\n",
    "  'max': 4000,\n",
    "  'palette': ['006633', 'E5FFCC', '662A00', 'D8D8D8', 'F5F5F5']}\n",
    "\n",
    "# Add Earth Eninge layers to Map\n",
    "Map.addLayer(viirs_map, vis_params, 'VIIRS map', True, 0.7)"
   ]
  },
  {
   "cell_type": "code",
   "execution_count": 5,
   "id": "ccd3fcf5",
   "metadata": {},
   "outputs": [],
   "source": [
    "# define and costumize the panel for widget visualization/output \n",
    "\n",
    "output_widget = widgets.Output(layout={'border': '1px solid black'})\n",
    "output_control = WidgetControl(widget=output_widget, position='bottomright')\n",
    "Map.add_control(output_control)"
   ]
  },
  {
   "cell_type": "code",
   "execution_count": 7,
   "id": "dc0bc908",
   "metadata": {},
   "outputs": [],
   "source": [
    "style = {'description_width': 'initial'}\n",
    "uploader = widgets.FileUpload(\n",
    "    description='Upload data',\n",
    "    accept='.zip, .json, .geojson, .shp', \n",
    "    multiple=False,\n",
    "    button_style='primary',\n",
    "    style=style\n",
    ")\n",
    "\n",
    "submit = widgets.Button(\n",
    "    description='Display data',\n",
    "    button_style='success',\n",
    "    tooltip='Click me',\n",
    "    style=style)\n",
    "\n",
    "reset = widgets.Button(\n",
    "    description='Reset',\n",
    "    button_style='warning',\n",
    "    tooltip='Click me',\n",
    "    style=style)\n",
    "\n",
    "plot = widgets.Button(\n",
    "    description='Plotting',\n",
    "    button_style='warning',\n",
    "    tooltip='Click me',\n",
    "    style=style)"
   ]
  },
  {
   "cell_type": "code",
   "execution_count": 8,
   "id": "ebc26fb5",
   "metadata": {},
   "outputs": [],
   "source": [
    "with output_widget:\n",
    "    print('Upload shapefile or \\ngeojson as a zip file')\n",
    "    display(uploader)\n",
    "    display(submit)\n",
    "    display(reset)\n",
    "    display(plot)"
   ]
  },
  {
   "cell_type": "code",
   "execution_count": 9,
   "id": "d7e41ed9",
   "metadata": {},
   "outputs": [],
   "source": [
    "# get the vector loaded through the output widget \n",
    "\n",
    "def get_vector(upload_widget, out_dir=None):\n",
    "    \n",
    "    import zipfile\n",
    "    import glob\n",
    "    \n",
    "    if out_dir is None:\n",
    "        out_dir = os.path.join(os.path.expanduser('~'), 'Downloads')\n",
    "    if not os.path.exists(out_dir):\n",
    "        os.makedirs(out_dir)\n",
    "        \n",
    "    vector = None\n",
    "    \n",
    "    try:    \n",
    "        [uploaded_file] = upload_widget.value\n",
    "        file = upload_widget.value[uploaded_file]\n",
    "        name = file['metadata']['name']\n",
    "        content = file['content']\n",
    "        out_file = os.path.join(out_dir, name)\n",
    "        with open(out_file, \"wb\") as fp:\n",
    "            fp.write(content)\n",
    "\n",
    "        if name.endswith('.zip'):\n",
    "            with zipfile.ZipFile(out_file, \"r\") as zip_ref:\n",
    "                extract_dir = os.path.join(out_dir, name[:-4] + \"_\" + geemap.random_string(3))\n",
    "                zip_ref.extractall(extract_dir)\n",
    "                files = glob.glob(extract_dir + '/*.shp')\n",
    "                if len(files) > 0:\n",
    "                    shp = files[0]\n",
    "                    vector = geemap.shp_to_ee(shp)\n",
    "                else:\n",
    "                    files = glob.glob(extract_dir + '/*.geojson')\n",
    "                    if len(files) > 0:\n",
    "                        geojson = files[0]\n",
    "                        vector = geemap.geojson_to_ee(geojson)\n",
    "        else:\n",
    "            vector = geemap.geojson_to_ee(out_file)\n",
    "                                \n",
    "    except Exception as e:\n",
    "        print(e)\n",
    "\n",
    "    return vector"
   ]
  },
  {
   "cell_type": "code",
   "execution_count": 10,
   "id": "4fa697d2",
   "metadata": {},
   "outputs": [],
   "source": [
    "def submit_clicked(b):\n",
    "    if uploader._counter > 0:\n",
    "        Map.default_style = {'cursor': 'wait'}        \n",
    "        try:\n",
    "            fc = get_vector(uploader)\n",
    "            layer_name = 'Layer ' + geemap.random_string(3)\n",
    "            Map.addLayer(fc, {}, layer_name)\n",
    "            Map.centerObject(fc)\n",
    "            uploader.value.clear()\n",
    "            uploader._counter = 0    \n",
    "        except Exception as e:\n",
    "            print(e)\n",
    "        Map.default_style = {'cursor': 'pointer'}\n",
    "\n",
    "submit.on_click(submit_clicked)\n",
    "\n",
    "def reset_clicked(b):\n",
    "\n",
    "    Map.layers = Map.layers[:3]\n",
    "    output_widget.clear_output()\n",
    "    with output_widget:\n",
    "        print('Upload shapefile or \\ngeojson as a zip file')\n",
    "        display(uploader)\n",
    "        display(submit)\n",
    "        display(reset)\n",
    "    uploader.value.clear()\n",
    "    uploader._counter = 0\n",
    "    \n",
    "reset.on_click(reset_clicked)"
   ]
  },
  {
   "cell_type": "code",
   "execution_count": 11,
   "id": "71fbaa3b",
   "metadata": {},
   "outputs": [
    {
     "data": {
      "application/vnd.jupyter.widget-view+json": {
       "model_id": "583f1f0027074608b84e6e3279c2e7bf",
       "version_major": 2,
       "version_minor": 0
      },
      "text/plain": [
       "Map(center=[40, -100], controls=(WidgetControl(options=['position', 'transparent_bg'], widget=HBox(children=(T…"
      ]
     },
     "metadata": {},
     "output_type": "display_data"
    }
   ],
   "source": [
    "Map"
   ]
  },
  {
   "cell_type": "code",
   "execution_count": 15,
   "id": "e08609a6",
   "metadata": {},
   "outputs": [],
   "source": [
    "region = get_vector(uploader)"
   ]
  },
  {
   "cell_type": "code",
   "execution_count": 16,
   "id": "e4bed21b",
   "metadata": {
    "scrolled": true
   },
   "outputs": [],
   "source": [
    "def region_mean(img):\n",
    "    mean = img.reduceRegion(reducer=ee.Reducer.mean(), geometry=region, scale=30).get('avg_rad')\n",
    "    return img.set('date', img.date().format()).set('mean',mean)"
   ]
  },
  {
   "cell_type": "code",
   "execution_count": 17,
   "id": "9be92d73",
   "metadata": {},
   "outputs": [],
   "source": [
    "region_reduced_imgs = viirs.map(region_mean)\n"
   ]
  },
  {
   "cell_type": "code",
   "execution_count": 18,
   "id": "b73222df",
   "metadata": {},
   "outputs": [],
   "source": [
    "nested_list = region_reduced_imgs.reduceColumns(ee.Reducer.toList(2), ['date','mean']).values().get(0)"
   ]
  },
  {
   "cell_type": "code",
   "execution_count": 19,
   "id": "0f291bd6",
   "metadata": {
    "scrolled": true
   },
   "outputs": [
    {
     "data": {
      "text/html": [
       "<div>\n",
       "<style scoped>\n",
       "    .dataframe tbody tr th:only-of-type {\n",
       "        vertical-align: middle;\n",
       "    }\n",
       "\n",
       "    .dataframe tbody tr th {\n",
       "        vertical-align: top;\n",
       "    }\n",
       "\n",
       "    .dataframe thead th {\n",
       "        text-align: right;\n",
       "    }\n",
       "</style>\n",
       "<table border=\"1\" class=\"dataframe\">\n",
       "  <thead>\n",
       "    <tr style=\"text-align: right;\">\n",
       "      <th></th>\n",
       "      <th>date</th>\n",
       "      <th>mean</th>\n",
       "    </tr>\n",
       "  </thead>\n",
       "  <tbody>\n",
       "    <tr>\n",
       "      <th>0</th>\n",
       "      <td>2014-01-01</td>\n",
       "      <td>49.701630</td>\n",
       "    </tr>\n",
       "    <tr>\n",
       "      <th>1</th>\n",
       "      <td>2014-02-01</td>\n",
       "      <td>52.887593</td>\n",
       "    </tr>\n",
       "    <tr>\n",
       "      <th>2</th>\n",
       "      <td>2014-03-01</td>\n",
       "      <td>53.543461</td>\n",
       "    </tr>\n",
       "    <tr>\n",
       "      <th>3</th>\n",
       "      <td>2014-04-01</td>\n",
       "      <td>52.898194</td>\n",
       "    </tr>\n",
       "    <tr>\n",
       "      <th>4</th>\n",
       "      <td>2014-05-01</td>\n",
       "      <td>45.928226</td>\n",
       "    </tr>\n",
       "  </tbody>\n",
       "</table>\n",
       "</div>"
      ],
      "text/plain": [
       "        date       mean\n",
       "0 2014-01-01  49.701630\n",
       "1 2014-02-01  52.887593\n",
       "2 2014-03-01  53.543461\n",
       "3 2014-04-01  52.898194\n",
       "4 2014-05-01  45.928226"
      ]
     },
     "execution_count": 19,
     "metadata": {},
     "output_type": "execute_result"
    }
   ],
   "source": [
    "# dont forget we need to call the callback method \"getInfo\" to retrieve the data\n",
    "df = pd.DataFrame(nested_list.getInfo(), columns=['date','mean'])\n",
    "df['date'] = pd.to_datetime(df['date'])\n",
    "\n",
    "#df = df.set_index('date')\n",
    "df.head()"
   ]
  },
  {
   "cell_type": "code",
   "execution_count": null,
   "id": "a324861e",
   "metadata": {},
   "outputs": [],
   "source": [
    "### Chart Time serie VIIRS"
   ]
  },
  {
   "cell_type": "code",
   "execution_count": 20,
   "id": "26b88051",
   "metadata": {
    "scrolled": true
   },
   "outputs": [],
   "source": [
    "%matplotlib widget\n",
    "\n",
    "\n",
    "#output_widget_chart.clear_output()\n",
    "output_widget_chart = widgets.Output(layout={'border': '1px solid black'})\n",
    "output_control_chart = ipyleaflet.WidgetControl(widget=output_widget_chart, position='topleft')\n",
    "Map.add_control(output_control_chart)\n",
    "with output_widget_chart:\n",
    "#Map.add_control(output_control_chart)\n",
    "#with output:\n",
    "    with plt.style.context(\"ggplot\"):\n",
    "        fig = plt.figure(figsize=(5,2))\n",
    "\n",
    "        plt.plot(df[\"date\"].values, df[\"mean\"].values)\n",
    "\n",
    "        plt.xlabel(\"Date\")\n",
    "        plt.ylabel(\"Night Time Lights\")\n",
    "        plt.title(\"Line Chart for Night Time Lights\");"
   ]
  },
  {
   "cell_type": "code",
   "execution_count": 21,
   "id": "0778cc0d",
   "metadata": {
    "scrolled": false
   },
   "outputs": [
    {
     "data": {
      "image/png": "[encoded data removed]",
      "text/plain": [
       "<Figure size 750x300 with 1 Axes>"
      ]
     },
     "execution_count": 21,
     "metadata": {},
     "output_type": "execute_result"
    }
   ],
   "source": [
    "fig"
   ]
  },
  {
   "cell_type": "code",
   "execution_count": 22,
   "id": "cee2770b",
   "metadata": {},
   "outputs": [],
   "source": [
    "#output_widget_chart.clear_output()\n",
    "#output_widget_chart = widgets.Output(layout={'border': '1px solid black'})\n",
    "#output_control_chart = ipyleaflet.WidgetControl(widget=output_widget_chart, position='topleft')\n",
    "with output_widget_chart:\n",
    "    display(fig)"
   ]
  },
  {
   "cell_type": "code",
   "execution_count": 24,
   "id": "5a2e1d1f",
   "metadata": {},
   "outputs": [],
   "source": [
    "#import geemap.foliumap as geemap\n",
    "#import datapane as dp\n",
    "#datapane login --token=\"96db988bbab0895446658094f32522f1f13a21c8\"\n",
    "#dp.ping()"
   ]
  },
  {
   "cell_type": "code",
   "execution_count": null,
   "id": "6af81866",
   "metadata": {},
   "outputs": [],
   "source": [
    "\n",
    "Map.publish(name='VIIRS', description='Web App Night Time Lights - VIIRS with Python')\n"
   ]
  },
  {
   "cell_type": "code",
   "execution_count": 25,
   "id": "2360c978",
   "metadata": {},
   "outputs": [
    {
     "data": {
      "application/vnd.jupyter.widget-view+json": {
       "model_id": "583f1f0027074608b84e6e3279c2e7bf",
       "version_major": 2,
       "version_minor": 0
      },
      "text/plain": [
       "Map(bottom=180552.0, center=[48.90992, 2.44572], controls=(WidgetControl(options=['position', 'transparent_bg'…"
      ]
     },
     "metadata": {},
     "output_type": "display_data"
    }
   ],
   "source": [
    "Map"
   ]
  }
 ],
 "metadata": {
  "kernelspec": {
   "display_name": "geo_env",
   "language": "python",
   "name": "geo_env"
  },
  "language_info": {
   "codemirror_mode": {
    "name": "ipython",
    "version": 3
   },
   "file_extension": ".py",
   "mimetype": "text/x-python",
   "name": "python",
   "nbconvert_exporter": "python",
   "pygments_lexer": "ipython3",
   "version": "3.9.6"
  }
 },
 "nbformat": 4,
 "nbformat_minor": 5
}
